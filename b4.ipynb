{
  "cells": [
    {
      "cell_type": "code",
      "execution_count": 149,
      "metadata": {
        "id": "pirvFOfLNLMn"
      },
      "outputs": [],
      "source": [
        "import json\n",
        "import math\n",
        "import os\n",
        "\n",
        "import cv2\n",
        "from PIL import Image\n",
        "import numpy as np\n",
        "import tensorflow as tf\n",
        "from tensorflow import keras\n",
        "\n",
        "import matplotlib.pyplot as plt\n",
        "import pandas as pd\n",
        "from sklearn.model_selection import train_test_split\n",
        "from sklearn.metrics import cohen_kappa_score, accuracy_score\n",
        "import scipy\n",
        "from tqdm import tqdm\n",
        "import gc\n",
        "from functools import partial\n",
        "from sklearn import metrics\n",
        "from collections import Counter\n",
        "import json\n",
        "import itertools\n",
        "import tensorflow.compat.v1 as tf1\n",
        "%matplotlib inline"
      ]
    },
    {
      "cell_type": "code",
      "execution_count": 150,
      "metadata": {
        "colab": {
          "base_uri": "https://localhost:8080/"
        },
        "id": "F1Gz3Z42ZQ89",
        "outputId": "f9e6edad-b998-4fa5-9ba6-c6075376f2b9"
      },
      "outputs": [
        {
          "output_type": "stream",
          "name": "stdout",
          "text": [
            "Requirement already satisfied: efficientnet in /usr/local/lib/python3.7/dist-packages (1.1.1)\n",
            "Requirement already satisfied: scikit-image in /usr/local/lib/python3.7/dist-packages (from efficientnet) (0.18.3)\n",
            "Requirement already satisfied: keras-applications<=1.0.8,>=1.0.7 in /usr/local/lib/python3.7/dist-packages (from efficientnet) (1.0.8)\n",
            "Requirement already satisfied: h5py in /usr/local/lib/python3.7/dist-packages (from keras-applications<=1.0.8,>=1.0.7->efficientnet) (3.1.0)\n",
            "Requirement already satisfied: numpy>=1.9.1 in /usr/local/lib/python3.7/dist-packages (from keras-applications<=1.0.8,>=1.0.7->efficientnet) (1.19.5)\n",
            "Requirement already satisfied: cached-property in /usr/local/lib/python3.7/dist-packages (from h5py->keras-applications<=1.0.8,>=1.0.7->efficientnet) (1.5.2)\n",
            "Requirement already satisfied: tifffile>=2019.7.26 in /usr/local/lib/python3.7/dist-packages (from scikit-image->efficientnet) (2021.11.2)\n",
            "Requirement already satisfied: scipy>=1.0.1 in /usr/local/lib/python3.7/dist-packages (from scikit-image->efficientnet) (1.4.1)\n",
            "Requirement already satisfied: pillow!=7.1.0,!=7.1.1,>=4.3.0 in /usr/local/lib/python3.7/dist-packages (from scikit-image->efficientnet) (7.1.2)\n",
            "Requirement already satisfied: matplotlib!=3.0.0,>=2.0.0 in /usr/local/lib/python3.7/dist-packages (from scikit-image->efficientnet) (3.2.2)\n",
            "Requirement already satisfied: PyWavelets>=1.1.1 in /usr/local/lib/python3.7/dist-packages (from scikit-image->efficientnet) (1.2.0)\n",
            "Requirement already satisfied: imageio>=2.3.0 in /usr/local/lib/python3.7/dist-packages (from scikit-image->efficientnet) (2.4.1)\n",
            "Requirement already satisfied: networkx>=2.0 in /usr/local/lib/python3.7/dist-packages (from scikit-image->efficientnet) (2.6.3)\n",
            "Requirement already satisfied: pyparsing!=2.0.4,!=2.1.2,!=2.1.6,>=2.0.1 in /usr/local/lib/python3.7/dist-packages (from matplotlib!=3.0.0,>=2.0.0->scikit-image->efficientnet) (3.0.6)\n",
            "Requirement already satisfied: cycler>=0.10 in /usr/local/lib/python3.7/dist-packages (from matplotlib!=3.0.0,>=2.0.0->scikit-image->efficientnet) (0.11.0)\n",
            "Requirement already satisfied: kiwisolver>=1.0.1 in /usr/local/lib/python3.7/dist-packages (from matplotlib!=3.0.0,>=2.0.0->scikit-image->efficientnet) (1.3.2)\n",
            "Requirement already satisfied: python-dateutil>=2.1 in /usr/local/lib/python3.7/dist-packages (from matplotlib!=3.0.0,>=2.0.0->scikit-image->efficientnet) (2.8.2)\n",
            "Requirement already satisfied: six>=1.5 in /usr/local/lib/python3.7/dist-packages (from python-dateutil>=2.1->matplotlib!=3.0.0,>=2.0.0->scikit-image->efficientnet) (1.15.0)\n"
          ]
        }
      ],
      "source": [
        "!pip install efficientnet\n",
        "import efficientnet.tfkeras as efn"
      ]
    },
    {
      "cell_type": "code",
      "execution_count": 151,
      "metadata": {
        "id": "73MrcAkzZaU2"
      },
      "outputs": [],
      "source": [
        "SEED = 42\n",
        "np.random.seed(SEED)\n",
        "tf1.set_random_seed(SEED)"
      ]
    },
    {
      "cell_type": "code",
      "execution_count": 152,
      "metadata": {
        "id": "7C7TbywkZ2kt"
      },
      "outputs": [],
      "source": [
        "from skimage.filters import rank, threshold_otsu\n",
        "from skimage.color import rgb2grey\n",
        "from sklearn.cluster import KMeans\n",
        "from skimage.morphology import closing, square, disk"
      ]
    },
    {
      "cell_type": "code",
      "execution_count": 153,
      "metadata": {
        "id": "wsTUMFAPaMcV"
      },
      "outputs": [],
      "source": [
        "def plot_any(arr, title = ''):\n",
        "    \"\"\"\n",
        "    plot multiple pictures\n",
        "    \"\"\"\n",
        "    plt.figure(figsize = (15, 25))\n",
        "    for i in range(len(arr)):\n",
        "        plt.subplot(1,len(arr),i + 1)\n",
        "        plt.title(title)\n",
        "        plt.imshow(arr[i]);\n",
        "\n",
        "        \n",
        "def d2Kmeans(img, k):\n",
        "    \"\"\"\n",
        "    Apply 2 dimensional KMeans algorithm on pictures\n",
        "    \"\"\"\n",
        "    return KMeans(n_jobs=-1, \n",
        "                  random_state=1, \n",
        "                  n_clusters = k, \n",
        "                  init='k-means++'\n",
        "    ).fit(img.reshape((-1,1))).labels_.reshape(img.shape)\n",
        "\n",
        "\n",
        "def merge_segmented_mask_ROI(uri_img, img_kluster):\n",
        "    \"\"\"\n",
        "    Merge original pricture and segmented picture\n",
        "    \"\"\"\n",
        "    new_img = uri_img.copy()\n",
        "    for ch in range(3):\n",
        "        new_img[:,:, ch] *= img_kluster\n",
        "    return new_img\n",
        "\n",
        "\n",
        "def mean_filter(image, radius):\n",
        "    \"\"\"\n",
        "    Create smooth boundaries of segmenation thourgh applying a gaussian mean blur\n",
        "    \"\"\"\n",
        "    return rank.mean_percentile(image, selem = disk(radius))\n",
        "\n",
        "\n",
        "def binary(image):\n",
        "    \"\"\"\n",
        "    Get round boundaries of the image when segmenting\n",
        "    \"\"\"\n",
        "    return image > threshold_otsu(image)\n",
        "\n",
        "\n",
        "def select_cluster_index(clusters):\n",
        "    \"\"\"\n",
        "    Chooose the right cluster index, which is the smallest, as the rest is background\n",
        "    \"\"\"\n",
        "    minx = clusters[0].mean()\n",
        "    index = 0\n",
        "    for i in clusters:\n",
        "        if i.mean() < minx:\n",
        "            minx = i.mean()\n",
        "            index += 1\n",
        "    return index\n",
        "\n",
        "\n",
        "def segment_image(img, k = 2):\n",
        "    \"\"\"\n",
        "    segment the image in skin mole versus background\n",
        "    \"\"\"\n",
        "    # Cluster the image\n",
        "    result_gray = d2Kmeans(rgb2grey(img), k)\n",
        "    \n",
        "    # Select the correct cluster\n",
        "    clusters_gray = [result_gray == i for i in range(k)]\n",
        "    selected_index = select_cluster_index(clusters_gray)\n",
        "    results_gray = clusters_gray[selected_index]\n",
        "    \n",
        "    # Apply smoothing of the boundaries\n",
        "    image_mean_filter = mean_filter(results_gray, 20)\n",
        "    test_binary = binary(image_mean_filter)\n",
        "    \n",
        "    # Create segmented picture with black background\n",
        "    new_img = merge_segmented_mask_ROI(img, test_binary)\n",
        "    \n",
        "    return new_img"
      ]
    },
    {
      "cell_type": "code",
      "execution_count": 154,
      "metadata": {
        "colab": {
          "base_uri": "https://localhost:8080/"
        },
        "id": "ggXxwNGYaP5F",
        "outputId": "60209ca8-e033-467c-d046-2d44db515009"
      },
      "outputs": [
        {
          "output_type": "stream",
          "name": "stdout",
          "text": [
            "number of benign test data:360\n",
            "number of malignant test data:300\n",
            "number of malignant train data:1197\n",
            "number of benign train data:1440\n"
          ]
        }
      ],
      "source": [
        "#Transfer 'jpg' images to an array IMG\n",
        "DIR = '/content/drive/MyDrive/skincancer/data/test/benign'\n",
        "benign_test = np.array([name for name in os.listdir(DIR) if os.path.isfile(os.path.join(DIR, name))])\n",
        "print(\"number of benign test data:\" + str(len(benign_test)))\n",
        "\n",
        "# number of malignant test data\n",
        "DIR = '/content/drive/MyDrive/skincancer/data/test/malignant'\n",
        "malignant_test = np.array([name for name in os.listdir(DIR) if os.path.isfile(os.path.join(DIR, name))])\n",
        "print(\"number of malignant test data:\" + str(len(malignant_test)))\n",
        "\n",
        "DIR = '/content/drive/MyDrive/skincancer/data/train/malignant'\n",
        "malignant_train = np.array([name for name in os.listdir(DIR) if os.path.isfile(os.path.join(DIR, name))])\n",
        "print(\"number of malignant train data:\" + str(len(malignant_train)))\n",
        "\n",
        "DIR = '/content/drive/MyDrive/skincancer/data/train/benign'\n",
        "benign_train = np.array([name for name in os.listdir(DIR) if os.path.isfile(os.path.join(DIR, name))])\n",
        "print(\"number of benign train data:\" + str(len(benign_train)))"
      ]
    },
    {
      "cell_type": "code",
      "execution_count": 155,
      "metadata": {
        "id": "rslEjsvtR8QL"
      },
      "outputs": [],
      "source": [
        "benign_train_label = np.zeros(len(benign_train))\n",
        "malign_train_label = np.ones(len(malignant_train))\n",
        "benign_test_label = np.zeros(len(benign_test))\n",
        "malign_test_label = np.ones(len(malignant_test))\n",
        "\n",
        "# Merge data \n",
        "X_train = np.concatenate((benign_train, malignant_train), axis = 0)\n",
        "Y_train = np.concatenate((benign_train_label, malign_train_label), axis = 0)\n",
        "X_test = np.concatenate((benign_test, malignant_test), axis = 0)\n",
        "Y_test = np.concatenate((benign_test_label, malign_test_label), axis = 0)\n",
        "\n",
        "# Shuffle train data\n",
        "s = np.arange(X_train.shape[0])\n",
        "np.random.shuffle(s)\n",
        "X_train = X_train[s]\n",
        "Y_train = Y_train[s]\n",
        "\n",
        "# Shuffle test data\n",
        "s = np.arange(X_test.shape[0])\n",
        "np.random.shuffle(s)\n",
        "X_test = X_test[s]\n",
        "Y_test = Y_test[s]\n",
        "\n",
        "# To categorical\n",
        "Y_train = tf.keras.utils.to_categorical(Y_train, num_classes= 2)\n",
        "Y_test = tf.keras.utils.to_categorical(Y_test, num_classes= 2)"
      ]
    },
    {
      "cell_type": "code",
      "execution_count": 156,
      "metadata": {
        "id": "fCdFrlINSORe"
      },
      "outputs": [],
      "source": [
        "x_train, x_val, y_train, y_val = train_test_split(\n",
        "    X_train, Y_train, \n",
        "    test_size=0.2, \n",
        "    random_state=SEED\n",
        ")"
      ]
    },
    {
      "cell_type": "code",
      "execution_count": 157,
      "metadata": {
        "colab": {
          "base_uri": "https://localhost:8080/"
        },
        "id": "9NF50kgLSWUy",
        "outputId": "d7d4d9c2-2924-46f9-f3b5-5eb94bbcd7bc"
      },
      "outputs": [
        {
          "output_type": "stream",
          "name": "stdout",
          "text": [
            "Found 2637 images belonging to 2 classes.\n",
            "Found 660 images belonging to 2 classes.\n"
          ]
        }
      ],
      "source": [
        "from tensorflow.keras.preprocessing.image import ImageDataGenerator\n",
        "\n",
        "\n",
        "# Add Image augmentation to our generator\n",
        "train_datagen = ImageDataGenerator(rescale=1./255,\n",
        "                                   rotation_range=360,\n",
        "                                   horizontal_flip=True,\n",
        "                                   vertical_flip=True,\n",
        "                                   width_shift_range=0.1,\n",
        "                                   height_shift_range=0.1,\n",
        "                                   zoom_range=(0.75,1),\n",
        "                                   brightness_range=(0.75,1.25)\n",
        "                                  )\n",
        "\n",
        "vtest_datagen = ImageDataGenerator(rescale = 1./255)\n",
        "\n",
        "training_set = train_datagen.flow_from_directory('/content/drive/MyDrive/skincancer/data/train',\n",
        "                                                 target_size = (224, 224),\n",
        "                                                 batch_size = 8,\n",
        "                                                 class_mode = 'binary')\n",
        "\n",
        "test_set = vtest_datagen.flow_from_directory('/content/drive/MyDrive/skincancer/data/test',\n",
        "                                            target_size = (224, 224),\n",
        "                                            batch_size =8,\n",
        "                                            class_mode = 'binary')"
      ]
    },
    {
      "cell_type": "code",
      "execution_count": 158,
      "metadata": {
        "id": "D9E_Vd2VSXYg"
      },
      "outputs": [],
      "source": [
        "def build_model(backbone, lr=1e-4):\n",
        "    model = tf.keras.Sequential()\n",
        "    model.add(backbone)\n",
        "    model.add(tf.keras.layers.GlobalAveragePooling2D())\n",
        "    model.add(tf.keras.layers.Dropout(0.5))\n",
        "    model.add(tf.keras.layers.BatchNormalization())\n",
        "    model.add(tf.keras.layers.Dense(1, activation='sigmoid'))\n",
        "    \n",
        "    return model"
      ]
    },
    {
      "cell_type": "code",
      "execution_count": 159,
      "metadata": {
        "id": "gwamQ3aKShZM"
      },
      "outputs": [],
      "source": [
        "from tensorflow.python.keras.optimizer_v2.optimizer_v2 import OptimizerV2\n",
        "\n",
        "from tensorflow.python.ops.gen_math_ops import *\n",
        "from tensorflow.python.keras import backend as K\n",
        "\n",
        "__all__ = ['RAdam']\n",
        "\n",
        "\n",
        "class RAdam(OptimizerV2):\n",
        "    \"\"\"RAdam optimizer.\n",
        "    According to the paper\n",
        "    [On The Variance Of The Adaptive Learning Rate And Beyond](https://arxiv.org/pdf/1908.03265v1.pdf).\n",
        "    \"\"\"\n",
        "\n",
        "    def __init__(self,\n",
        "                 learning_rate=0.001,\n",
        "                 beta_1=0.9,\n",
        "                 beta_2=0.999,\n",
        "                 epsilon=1e-7,\n",
        "                 weight_decay=0.,\n",
        "                 amsgrad=False,\n",
        "                 total_steps=0,\n",
        "                 warmup_proportion=0.1,\n",
        "                 min_lr=0.,\n",
        "                 name='RAdam',\n",
        "                 **kwargs):\n",
        "        r\"\"\"Construct a new Adam optimizer.\n",
        "        Args:\n",
        "            learning_rate: A Tensor or a floating point value.    The learning rate.\n",
        "            beta_1: A float value or a constant float tensor. The exponential decay\n",
        "                rate for the 1st moment estimates.\n",
        "            beta_2: A float value or a constant float tensor. The exponential decay\n",
        "                rate for the 2nd moment estimates.\n",
        "            epsilon: A small constant for numerical stability. This epsilon is\n",
        "                \"epsilon hat\" in the Kingma and Ba paper (in the formula just before\n",
        "                Section 2.1), not the epsilon in Algorithm 1 of the paper.\n",
        "            weight_decay: A floating point value. Weight decay for each param.\n",
        "            amsgrad: boolean. Whether to apply AMSGrad variant of this algorithm from\n",
        "                the paper \"On the Convergence of Adam and beyond\".\n",
        "            total_steps: An integer. Total number of training steps.\n",
        "                Enable warmup by setting a positive value.\n",
        "            warmup_proportion: A floating point value. The proportion of increasing steps.\n",
        "            min_lr: A floating point value. Minimum learning rate after warmup.\n",
        "            name: Optional name for the operations created when applying gradients.\n",
        "                Defaults to \"Adam\".    @compatibility(eager) When eager execution is\n",
        "                enabled, `learning_rate`, `beta_1`, `beta_2`, and `epsilon` can each be\n",
        "                a callable that takes no arguments and returns the actual value to use.\n",
        "                This can be useful for changing these values across different\n",
        "                invocations of optimizer functions. @end_compatibility\n",
        "            **kwargs: keyword arguments. Allowed to be {`clipnorm`, `clipvalue`, `lr`,\n",
        "                `decay`}. `clipnorm` is clip gradients by norm; `clipvalue` is clip\n",
        "                gradients by value, `decay` is included for backward compatibility to\n",
        "                allow time inverse decay of learning rate. `lr` is included for backward\n",
        "                compatibility, recommended to use `learning_rate` instead.\n",
        "        \"\"\"\n",
        "\n",
        "        super(RAdam, self).__init__(name, **kwargs)\n",
        "        self._set_hyper('learning_rate', kwargs.get('lr', learning_rate))\n",
        "        self._set_hyper('beta_1', beta_1)\n",
        "        self._set_hyper('beta_2', beta_2)\n",
        "        self._set_hyper('decay', self._initial_decay)\n",
        "        self._set_hyper('weight_decay', weight_decay)\n",
        "        self._set_hyper('total_steps', float(total_steps))\n",
        "        self._set_hyper('warmup_proportion', warmup_proportion)\n",
        "        self._set_hyper('min_lr', min_lr)\n",
        "        self.epsilon = epsilon or K.epsilon()\n",
        "        self.amsgrad = amsgrad\n",
        "        self._initial_weight_decay = weight_decay\n",
        "        self._initial_total_steps = total_steps\n",
        "\n",
        "    def _create_slots(self, var_list):\n",
        "        for var in var_list:\n",
        "            self.add_slot(var, 'm')\n",
        "        for var in var_list:\n",
        "            self.add_slot(var, 'v')\n",
        "        if self.amsgrad:\n",
        "            for var in var_list:\n",
        "                self.add_slot(var, 'vhat')\n",
        "\n",
        "    def set_weights(self, weights):\n",
        "        params = self.weights\n",
        "        num_vars = int((len(params) - 1) / 2)\n",
        "        if len(weights) == 3 * num_vars + 1:\n",
        "            weights = weights[:len(params)]\n",
        "        super(RAdam, self).set_weights(weights)\n",
        "\n",
        "    def _resource_apply_dense(self, grad, var):\n",
        "        var_dtype = var.dtype.base_dtype\n",
        "        lr_t = self._decayed_lr(var_dtype)\n",
        "        m = self.get_slot(var, 'm')\n",
        "        v = self.get_slot(var, 'v')\n",
        "        beta_1_t = self._get_hyper('beta_1', var_dtype)\n",
        "        beta_2_t = self._get_hyper('beta_2', var_dtype)\n",
        "        epsilon_t = ops.convert_to_tensor(self.epsilon, var_dtype)\n",
        "        local_step = math_ops.cast(self.iterations + 1, var_dtype)\n",
        "        beta_1_power = math_ops.pow(beta_1_t, local_step)\n",
        "        beta_2_power = math_ops.pow(beta_2_t, local_step)\n",
        "\n",
        "        if self._initial_total_steps > 0:\n",
        "            total_steps = self._get_hyper('total_steps', var_dtype)\n",
        "            warmup_steps = total_steps * self._get_hyper('warmup_proportion', var_dtype)\n",
        "            min_lr = self._get_hyper('min_lr', var_dtype)\n",
        "            decay_steps = K.maximum(total_steps - warmup_steps, 1)\n",
        "            decay_rate = (min_lr - lr_t) / decay_steps\n",
        "            lr_t = tf.where(\n",
        "                local_step <= warmup_steps,\n",
        "                lr_t * (local_step / warmup_steps),\n",
        "                lr_t + decay_rate * K.minimum(local_step - warmup_steps, decay_steps),\n",
        "            )\n",
        "\n",
        "        sma_inf = 2.0 / (1.0 - beta_2_t) - 1.0\n",
        "        sma_t = sma_inf - 2.0 * local_step * beta_2_power / (1.0 - beta_2_power)\n",
        "\n",
        "        m_t = state_ops.assign(m,\n",
        "                               beta_1_t * m + (1.0 - beta_1_t) * grad,\n",
        "                               use_locking=self._use_locking)\n",
        "        m_corr_t = m_t / (1.0 - beta_1_power)\n",
        "\n",
        "        v_t = state_ops.assign(v,\n",
        "                               beta_2_t * v + (1.0 - beta_2_t) * math_ops.square(grad),\n",
        "                               use_locking=self._use_locking)\n",
        "        if self.amsgrad:\n",
        "            vhat = self.get_slot(var, 'vhat')\n",
        "            vhat_t = state_ops.assign(vhat,\n",
        "                                      math_ops.maximum(vhat, v_t),\n",
        "                                      use_locking=self._use_locking)\n",
        "            v_corr_t = math_ops.sqrt(vhat_t / (1.0 - beta_2_power))\n",
        "        else:\n",
        "            vhat_t = None\n",
        "            v_corr_t = math_ops.sqrt(v_t / (1.0 - beta_2_power))\n",
        "\n",
        "        r_t = math_ops.sqrt((sma_t - 4.0) / (sma_inf - 4.0) *\n",
        "                            (sma_t - 2.0) / (sma_inf - 2.0) *\n",
        "                            sma_inf / sma_t)\n",
        "\n",
        "        var_t = tf.where(sma_t >= 5.0, r_t * m_corr_t / (v_corr_t + epsilon_t), m_corr_t)\n",
        "\n",
        "        if self._initial_weight_decay > 0.0:\n",
        "            var_t += self._get_hyper('weight_decay', var_dtype) * var\n",
        "\n",
        "        var_update = state_ops.assign_sub(var,\n",
        "                                          lr_t * var_t,\n",
        "                                          use_locking=self._use_locking)\n",
        "\n",
        "        updates = [var_update, m_t, v_t]\n",
        "        if self.amsgrad:\n",
        "            updates.append(vhat_t)\n",
        "        return control_flow_ops.group(*updates)\n",
        "\n",
        "    def _resource_apply_sparse(self, grad, var, indices):\n",
        "        var_dtype = var.dtype.base_dtype\n",
        "        lr_t = self._decayed_lr(var_dtype)\n",
        "        beta_1_t = self._get_hyper('beta_1', var_dtype)\n",
        "        beta_2_t = self._get_hyper('beta_2', var_dtype)\n",
        "        epsilon_t = ops.convert_to_tensor(self.epsilon, var_dtype)\n",
        "        local_step = math_ops.cast(self.iterations + 1, var_dtype)\n",
        "        beta_1_power = math_ops.pow(beta_1_t, local_step)\n",
        "        beta_2_power = math_ops.pow(beta_2_t, local_step)\n",
        "\n",
        "        if self._initial_total_steps > 0:\n",
        "            total_steps = self._get_hyper('total_steps', var_dtype)\n",
        "            warmup_steps = total_steps * self._get_hyper('warmup_proportion', var_dtype)\n",
        "            min_lr = self._get_hyper('min_lr', var_dtype)\n",
        "            decay_steps = K.maximum(total_steps - warmup_steps, 1)\n",
        "            decay_rate = (min_lr - lr_t) / decay_steps\n",
        "            lr_t = tf.where(\n",
        "                local_step <= warmup_steps,\n",
        "                lr_t * (local_step / warmup_steps),\n",
        "                lr_t + decay_rate * K.minimum(local_step - warmup_steps, decay_steps),\n",
        "            )\n",
        "\n",
        "        sma_inf = 2.0 / (1.0 - beta_2_t) - 1.0\n",
        "        sma_t = sma_inf - 2.0 * local_step * beta_2_power / (1.0 - beta_2_power)\n",
        "\n",
        "        m = self.get_slot(var, 'm')\n",
        "        m_scaled_g_values = grad * (1 - beta_1_t)\n",
        "        m_t = state_ops.assign(m, m * beta_1_t, use_locking=self._use_locking)\n",
        "        with ops.control_dependencies([m_t]):\n",
        "            m_t = self._resource_scatter_add(m, indices, m_scaled_g_values)\n",
        "        m_corr_t = m_t / (1.0 - beta_1_power)\n",
        "\n",
        "        v = self.get_slot(var, 'v')\n",
        "        v_scaled_g_values = (grad * grad) * (1 - beta_2_t)\n",
        "        v_t = state_ops.assign(v, v * beta_2_t, use_locking=self._use_locking)\n",
        "        with ops.control_dependencies([v_t]):\n",
        "            v_t = self._resource_scatter_add(v, indices, v_scaled_g_values)\n",
        "\n",
        "        if self.amsgrad:\n",
        "            vhat = self.get_slot(var, 'vhat')\n",
        "            vhat_t = state_ops.assign(vhat,\n",
        "                                      math_ops.maximum(vhat, v_t),\n",
        "                                      use_locking=self._use_locking)\n",
        "            v_corr_t = math_ops.sqrt(vhat_t / (1.0 - beta_2_power))\n",
        "        else:\n",
        "            vhat_t = None\n",
        "            v_corr_t = math_ops.sqrt(v_t / (1.0 - beta_2_power))\n",
        "\n",
        "        r_t = math_ops.sqrt((sma_t - 4.0) / (sma_inf - 4.0) *\n",
        "                            (sma_t - 2.0) / (sma_inf - 2.0) *\n",
        "                            sma_inf / sma_t)\n",
        "\n",
        "        var_t = tf.where(sma_t >= 5.0, r_t * m_corr_t / (v_corr_t + epsilon_t), m_corr_t)\n",
        "\n",
        "        if self._initial_weight_decay > 0.0:\n",
        "            var_t += self._get_hyper('weight_decay', var_dtype) * var\n",
        "\n",
        "        var_update = self._resource_scatter_add(var, indices, tf.gather(-lr_t * var_t, indices))\n",
        "\n",
        "        updates = [var_update, m_t, v_t]\n",
        "        if self.amsgrad:\n",
        "            updates.append(vhat_t)\n",
        "        return control_flow_ops.group(*updates)\n",
        "\n",
        "    def get_config(self):\n",
        "        config = super(RAdam, self).get_config()\n",
        "        config.update({\n",
        "            'learning_rate': self._serialize_hyperparameter('learning_rate'),\n",
        "            'beta_1': self._serialize_hyperparameter('beta_1'),\n",
        "            'beta_2': self._serialize_hyperparameter('beta_2'),\n",
        "            'decay': self._serialize_hyperparameter('decay'),\n",
        "            'weight_decay': self._serialize_hyperparameter('weight_decay'),\n",
        "            'epsilon': self.epsilon,\n",
        "            'amsgrad': self.amsgrad,\n",
        "            'total_steps': self._serialize_hyperparameter('total_steps'),\n",
        "            'warmup_proportion': self._serialize_hyperparameter('warmup_proportion'),\n",
        "            'min_lr': self._serialize_hyperparameter('min_lr'),\n",
        "        })\n",
        "        return config"
      ]
    },
    {
      "cell_type": "code",
      "execution_count": 160,
      "metadata": {
        "colab": {
          "base_uri": "https://localhost:8080/"
        },
        "id": "cwL67jhBSie2",
        "outputId": "e2f52476-4685-4452-fd59-4ae13bfeb29c"
      },
      "outputs": [
        {
          "output_type": "stream",
          "name": "stdout",
          "text": [
            "Downloading data from https://github.com/Callidior/keras-applications/releases/download/efficientnet/efficientnet-b4_weights_tf_dim_ordering_tf_kernels_autoaugment_notop.h5\n",
            "71892992/71892840 [==============================] - 0s 0us/step\n",
            "71901184/71892840 [==============================] - 0s 0us/step\n",
            "Model: \"sequential_5\"\n",
            "_________________________________________________________________\n",
            " Layer (type)                Output Shape              Param #   \n",
            "=================================================================\n",
            " efficientnet-b4 (Functional  (None, 12, 12, 1792)     17673816  \n",
            " )                                                               \n",
            "                                                                 \n",
            " global_average_pooling2d_5   (None, 1792)             0         \n",
            " (GlobalAveragePooling2D)                                        \n",
            "                                                                 \n",
            " dropout_5 (Dropout)         (None, 1792)              0         \n",
            "                                                                 \n",
            " batch_normalization_5 (Batc  (None, 1792)             7168      \n",
            " hNormalization)                                                 \n",
            "                                                                 \n",
            " dense_5 (Dense)             (None, 1)                 1793      \n",
            "                                                                 \n",
            "=================================================================\n",
            "Total params: 17,682,777\n",
            "Trainable params: 17,553,993\n",
            "Non-trainable params: 128,784\n",
            "_________________________________________________________________\n"
          ]
        }
      ],
      "source": [
        "efficientnetb3 = efn.EfficientNetB4(\n",
        "        weights='imagenet',\n",
        "        input_shape=(380,380,3),\n",
        "        include_top=False\n",
        "                   )\n",
        "\n",
        "model = build_model(efficientnetb3)\n",
        "model.summary()\n",
        "\n",
        "\n",
        "\n"
      ]
    },
    {
      "cell_type": "code",
      "execution_count": 161,
      "metadata": {
        "id": "UZ_rXBNdSyvp"
      },
      "outputs": [],
      "source": [
        "\n",
        "model.compile(\n",
        "        loss='binary_crossentropy',\n",
        "        optimizer='Adam',\n",
        "        \n",
        "        metrics=['accuracy']\n",
        "    )"
      ]
    },
    {
      "cell_type": "code",
      "execution_count": 161,
      "metadata": {
        "id": "j8IJ8ftDqPRV"
      },
      "outputs": [],
      "source": [
        ""
      ]
    },
    {
      "cell_type": "code",
      "execution_count": 162,
      "metadata": {
        "id": "WJ0t5w_wtycz"
      },
      "outputs": [],
      "source": [
        "# Learning Rate Reducer\n",
        "learn_control = tf.keras.callbacks.ReduceLROnPlateau(monitor='val_accuracy', \n",
        "                                  patience=5,\n",
        "                                  verbose=1,\n",
        "                                  factor=0.2, \n",
        "                                  min_lr=1e-7)\n",
        "\n",
        "# Checkpoint\n",
        "#filepath=\"weights.best.hdf5\"\n",
        "#checkpoint = tf.keras.callbacks.ModelCheckpoint(filepath, monitor='val_acc', verbose=1, save_best_only=True, mode='max')\n"
      ]
    },
    {
      "cell_type": "code",
      "execution_count": 163,
      "metadata": {
        "colab": {
          "base_uri": "https://localhost:8080/"
        },
        "id": "7k0V1XoiuA7Q",
        "outputId": "b3794a61-0f3d-49b5-906f-c42148ded115"
      },
      "outputs": [
        {
          "output_type": "stream",
          "name": "stdout",
          "text": [
            "Epoch 1/20\n",
            "32/32 [==============================] - 28s 348ms/step - loss: 0.7821 - accuracy: 0.6838 - val_loss: 0.8656 - val_accuracy: 0.5781 - lr: 0.0010\n",
            "Epoch 2/20\n",
            "32/32 [==============================] - 8s 235ms/step - loss: 0.5755 - accuracy: 0.7852 - val_loss: 1.2334 - val_accuracy: 0.5625 - lr: 0.0010\n",
            "Epoch 3/20\n",
            "32/32 [==============================] - 8s 236ms/step - loss: 0.6246 - accuracy: 0.7075 - val_loss: 1.0447 - val_accuracy: 0.5781 - lr: 0.0010\n",
            "Epoch 4/20\n",
            "32/32 [==============================] - 8s 233ms/step - loss: 0.5627 - accuracy: 0.7734 - val_loss: 0.8776 - val_accuracy: 0.5625 - lr: 0.0010\n",
            "Epoch 5/20\n",
            "32/32 [==============================] - 8s 235ms/step - loss: 0.6335 - accuracy: 0.6914 - val_loss: 1.6578 - val_accuracy: 0.5938 - lr: 0.0010\n",
            "Epoch 6/20\n",
            "32/32 [==============================] - 8s 237ms/step - loss: 0.5925 - accuracy: 0.7539 - val_loss: 0.4931 - val_accuracy: 0.7344 - lr: 0.0010\n",
            "Epoch 7/20\n",
            "32/32 [==============================] - 8s 237ms/step - loss: 0.5868 - accuracy: 0.7500 - val_loss: 0.6324 - val_accuracy: 0.6875 - lr: 0.0010\n",
            "Epoch 8/20\n",
            "32/32 [==============================] - 8s 239ms/step - loss: 0.5308 - accuracy: 0.7617 - val_loss: 0.8406 - val_accuracy: 0.4531 - lr: 0.0010\n",
            "Epoch 9/20\n",
            "32/32 [==============================] - 8s 240ms/step - loss: 0.6185 - accuracy: 0.7188 - val_loss: 1.4411 - val_accuracy: 0.7031 - lr: 0.0010\n",
            "Epoch 10/20\n",
            "32/32 [==============================] - 8s 237ms/step - loss: 0.5772 - accuracy: 0.7422 - val_loss: 0.7614 - val_accuracy: 0.5781 - lr: 0.0010\n",
            "Epoch 11/20\n",
            "32/32 [==============================] - ETA: 0s - loss: 0.4962 - accuracy: 0.7578\n",
            "Epoch 00011: ReduceLROnPlateau reducing learning rate to 0.00020000000949949026.\n",
            "32/32 [==============================] - 8s 245ms/step - loss: 0.4962 - accuracy: 0.7578 - val_loss: 0.7040 - val_accuracy: 0.6719 - lr: 0.0010\n",
            "Epoch 12/20\n",
            "32/32 [==============================] - 8s 246ms/step - loss: 0.4518 - accuracy: 0.8164 - val_loss: 0.6675 - val_accuracy: 0.6719 - lr: 2.0000e-04\n",
            "Epoch 13/20\n",
            "32/32 [==============================] - 8s 246ms/step - loss: 0.5280 - accuracy: 0.7539 - val_loss: 0.5963 - val_accuracy: 0.6719 - lr: 2.0000e-04\n",
            "Epoch 14/20\n",
            "32/32 [==============================] - 8s 244ms/step - loss: 0.4502 - accuracy: 0.7852 - val_loss: 0.3677 - val_accuracy: 0.8594 - lr: 2.0000e-04\n",
            "Epoch 15/20\n",
            "32/32 [==============================] - 8s 240ms/step - loss: 0.4410 - accuracy: 0.7695 - val_loss: 0.3434 - val_accuracy: 0.7812 - lr: 2.0000e-04\n",
            "Epoch 16/20\n",
            "32/32 [==============================] - 8s 243ms/step - loss: 0.4340 - accuracy: 0.7812 - val_loss: 0.3585 - val_accuracy: 0.7969 - lr: 2.0000e-04\n",
            "Epoch 17/20\n",
            "32/32 [==============================] - 8s 242ms/step - loss: 0.4748 - accuracy: 0.8164 - val_loss: 0.3432 - val_accuracy: 0.8125 - lr: 2.0000e-04\n",
            "Epoch 18/20\n",
            "32/32 [==============================] - 8s 243ms/step - loss: 0.4840 - accuracy: 0.7617 - val_loss: 0.3610 - val_accuracy: 0.8750 - lr: 2.0000e-04\n",
            "Epoch 19/20\n",
            "32/32 [==============================] - 8s 242ms/step - loss: 0.4291 - accuracy: 0.8086 - val_loss: 0.3761 - val_accuracy: 0.8125 - lr: 2.0000e-04\n",
            "Epoch 20/20\n",
            "32/32 [==============================] - 8s 243ms/step - loss: 0.3968 - accuracy: 0.8203 - val_loss: 0.2576 - val_accuracy: 0.8906 - lr: 2.0000e-04\n"
          ]
        }
      ],
      "source": [
        "history = model.fit(\n",
        "    training_set,\n",
        "    steps_per_epoch= x_train.shape[0]//65,\n",
        "    epochs=20,\n",
        "    validation_data=test_set,\n",
        "    validation_steps = x_val.shape[0]//65 ,\n",
        "    callbacks=[learn_control]\n",
        ")"
      ]
    },
    {
      "cell_type": "code",
      "execution_count": 164,
      "metadata": {
        "id": "prm1GLTWqfon",
        "colab": {
          "base_uri": "https://localhost:8080/",
          "height": 318
        },
        "outputId": "45aa28a7-97dd-43cf-9a41-8fa0c3450525"
      },
      "outputs": [
        {
          "output_type": "display_data",
          "data": {
            "image/png": "[encoded data removed]",
            "text/plain": [
              "<Figure size 720x720 with 2 Axes>"
            ]
          },
          "metadata": {
            "needs_background": "light"
          }
        }
      ],
      "source": [
        "import matplotlib.pyplot as plt\n",
        "\n",
        "import matplotlib.pyplot as plt\n",
        "plt.figure(figsize=(10,10))\n",
        "plt.subplot(221)\n",
        "loss_train = history.history['loss']\n",
        "loss_val = history.history['val_loss']\n",
        "epochs = range(0,20)\n",
        "plt.plot(epochs, loss_train, 'g', label='Training loss')\n",
        "plt.plot(epochs, loss_val, 'b', label='validation loss')\n",
        "plt.title('Training and Validation loss')\n",
        "plt.xlabel('Epochs')\n",
        "plt.ylabel('Loss')\n",
        "plt.legend()\n",
        "\n",
        "plt.subplot(222)\n",
        "\n",
        "loss_train = history.history['accuracy']\n",
        "loss_val = history.history['val_accuracy']\n",
        "epochs = range(0,20)\n",
        "plt.plot(epochs, loss_train, 'g', label='Training accuracy')\n",
        "plt.plot(epochs, loss_val, 'b', label='validation accuracy')\n",
        "plt.title('Training and Validation Accuracy')\n",
        "plt.xlabel('Epochs')\n",
        "plt.ylabel('Accuracy')\n",
        "plt.legend()\n",
        "plt.subplots_adjust(left=0,\n",
        "                    bottom=0.1, \n",
        "                    right=1, \n",
        "                    top=0.9, \n",
        "                    wspace=0.2, \n",
        "                    hspace=0.4)\n",
        "figure.tight_layout()\n",
        "plt.savefig('E:\\fyp work\\skin cancer paper\\model\\b4.jpg')\n",
        "plt.show()\n",
        "\n"
      ]
    },
    {
      "cell_type": "code",
      "execution_count": 165,
      "metadata": {
        "id": "BeqbmDxEV4Cc",
        "colab": {
          "base_uri": "https://localhost:8080/"
        },
        "outputId": "f1695179-e475-42fc-e97e-4b8265c48c17"
      },
      "outputs": [
        {
          "output_type": "stream",
          "name": "stdout",
          "text": [
            "330/330 [==============================] - 46s 138ms/step - loss: 0.3482 - accuracy: 0.8369\n"
          ]
        },
        {
          "output_type": "execute_result",
          "data": {
            "text/plain": [
              "[0.34823301434516907, 0.8369359374046326]"
            ]
          },
          "metadata": {},
          "execution_count": 165
        }
      ],
      "source": [
        "model.evaluate (training_set)"
      ]
    },
    {
      "cell_type": "code",
      "source": [
        "model.evaluate(test_set)"
      ],
      "metadata": {
        "colab": {
          "base_uri": "https://localhost:8080/"
        },
        "id": "ZTHgJT45Jsa-",
        "outputId": "e77c96bc-fe6a-4248-8bb5-8c63f40edba8"
      },
      "execution_count": 166,
      "outputs": [
        {
          "output_type": "stream",
          "name": "stdout",
          "text": [
            "83/83 [==============================] - 5s 55ms/step - loss: 0.4025 - accuracy: 0.7985\n"
          ]
        },
        {
          "output_type": "execute_result",
          "data": {
            "text/plain": [
              "[0.4025430977344513, 0.7984848618507385]"
            ]
          },
          "metadata": {},
          "execution_count": 166
        }
      ]
    },
    {
      "cell_type": "markdown",
      "metadata": {
        "id": "Yu5ybR3VNNWh"
      },
      "source": [
        "# New Section"
      ]
    }
  ],
  "metadata": {
    "accelerator": "GPU",
    "colab": {
      "collapsed_sections": [],
      "name": "Copy of Copy of Copy of Copy of Untitled3.ipynb",
      "provenance": []
    },
    "kernelspec": {
      "display_name": "Python 3",
      "name": "python3"
    },
    "language_info": {
      "name": "python"
    }
  },
  "nbformat": 4,
  "nbformat_minor": 0
}