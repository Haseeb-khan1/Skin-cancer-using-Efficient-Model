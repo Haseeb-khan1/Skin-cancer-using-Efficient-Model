{
  "nbformat": 4,
  "nbformat_minor": 0,
  "metadata": {
    "colab": {
      "name": "Copy of Untitled3.ipynb",
      "provenance": [],
      "collapsed_sections": []
    },
    "kernelspec": {
      "name": "python3",
      "display_name": "Python 3"
    },
    "language_info": {
      "name": "python"
    },
    "accelerator": "GPU"
  },
  "cells": [
    {
      "cell_type": "code",
      "execution_count": 40,
      "metadata": {
        "id": "pirvFOfLNLMn"
      },
      "outputs": [],
      "source": [
        "import json\n",
        "import math\n",
        "import os\n",
        "\n",
        "import cv2\n",
        "from PIL import Image\n",
        "import numpy as np\n",
        "import tensorflow as tf\n",
        "from tensorflow import keras\n",
        "\n",
        "import matplotlib.pyplot as plt\n",
        "import pandas as pd\n",
        "from sklearn.model_selection import train_test_split\n",
        "from sklearn.metrics import cohen_kappa_score, accuracy_score\n",
        "import scipy\n",
        "from tqdm import tqdm\n",
        "import gc\n",
        "from functools import partial\n",
        "from sklearn import metrics\n",
        "from collections import Counter\n",
        "import json\n",
        "import itertools\n",
        "import tensorflow.compat.v1 as tf1\n",
        "%matplotlib inline"
      ]
    },
    {
      "cell_type": "code",
      "source": [
        "!pip install efficientnet\n",
        "import efficientnet.tfkeras as efn"
      ],
      "metadata": {
        "colab": {
          "base_uri": "https://localhost:8080/"
        },
        "id": "F1Gz3Z42ZQ89",
        "outputId": "814e877f-b2c2-428d-eb1b-62d544398bbd"
      },
      "execution_count": 41,
      "outputs": [
        {
          "output_type": "stream",
          "name": "stdout",
          "text": [
            "Requirement already satisfied: efficientnet in /usr/local/lib/python3.7/dist-packages (1.1.1)\n",
            "Requirement already satisfied: keras-applications<=1.0.8,>=1.0.7 in /usr/local/lib/python3.7/dist-packages (from efficientnet) (1.0.8)\n",
            "Requirement already satisfied: scikit-image in /usr/local/lib/python3.7/dist-packages (from efficientnet) (0.18.3)\n",
            "Requirement already satisfied: numpy>=1.9.1 in /usr/local/lib/python3.7/dist-packages (from keras-applications<=1.0.8,>=1.0.7->efficientnet) (1.19.5)\n",
            "Requirement already satisfied: h5py in /usr/local/lib/python3.7/dist-packages (from keras-applications<=1.0.8,>=1.0.7->efficientnet) (3.1.0)\n",
            "Requirement already satisfied: cached-property in /usr/local/lib/python3.7/dist-packages (from h5py->keras-applications<=1.0.8,>=1.0.7->efficientnet) (1.5.2)\n",
            "Requirement already satisfied: imageio>=2.3.0 in /usr/local/lib/python3.7/dist-packages (from scikit-image->efficientnet) (2.4.1)\n",
            "Requirement already satisfied: networkx>=2.0 in /usr/local/lib/python3.7/dist-packages (from scikit-image->efficientnet) (2.6.3)\n",
            "Requirement already satisfied: PyWavelets>=1.1.1 in /usr/local/lib/python3.7/dist-packages (from scikit-image->efficientnet) (1.2.0)\n",
            "Requirement already satisfied: pillow!=7.1.0,!=7.1.1,>=4.3.0 in /usr/local/lib/python3.7/dist-packages (from scikit-image->efficientnet) (7.1.2)\n",
            "Requirement already satisfied: scipy>=1.0.1 in /usr/local/lib/python3.7/dist-packages (from scikit-image->efficientnet) (1.4.1)\n",
            "Requirement already satisfied: tifffile>=2019.7.26 in /usr/local/lib/python3.7/dist-packages (from scikit-image->efficientnet) (2021.11.2)\n",
            "Requirement already satisfied: matplotlib!=3.0.0,>=2.0.0 in /usr/local/lib/python3.7/dist-packages (from scikit-image->efficientnet) (3.2.2)\n",
            "Requirement already satisfied: kiwisolver>=1.0.1 in /usr/local/lib/python3.7/dist-packages (from matplotlib!=3.0.0,>=2.0.0->scikit-image->efficientnet) (1.3.2)\n",
            "Requirement already satisfied: python-dateutil>=2.1 in /usr/local/lib/python3.7/dist-packages (from matplotlib!=3.0.0,>=2.0.0->scikit-image->efficientnet) (2.8.2)\n",
            "Requirement already satisfied: cycler>=0.10 in /usr/local/lib/python3.7/dist-packages (from matplotlib!=3.0.0,>=2.0.0->scikit-image->efficientnet) (0.11.0)\n",
            "Requirement already satisfied: pyparsing!=2.0.4,!=2.1.2,!=2.1.6,>=2.0.1 in /usr/local/lib/python3.7/dist-packages (from matplotlib!=3.0.0,>=2.0.0->scikit-image->efficientnet) (3.0.6)\n",
            "Requirement already satisfied: six>=1.5 in /usr/local/lib/python3.7/dist-packages (from python-dateutil>=2.1->matplotlib!=3.0.0,>=2.0.0->scikit-image->efficientnet) (1.15.0)\n"
          ]
        }
      ]
    },
    {
      "cell_type": "code",
      "source": [
        "SEED = 42\n",
        "np.random.seed(SEED)\n",
        "tf1.set_random_seed(SEED)"
      ],
      "metadata": {
        "id": "73MrcAkzZaU2"
      },
      "execution_count": 42,
      "outputs": []
    },
    {
      "cell_type": "code",
      "source": [
        "from skimage.filters import rank, threshold_otsu\n",
        "from skimage.color import rgb2grey\n",
        "from sklearn.cluster import KMeans\n",
        "from skimage.morphology import closing, square, disk"
      ],
      "metadata": {
        "id": "7C7TbywkZ2kt"
      },
      "execution_count": 43,
      "outputs": []
    },
    {
      "cell_type": "code",
      "source": [
        "def plot_any(arr, title = ''):\n",
        "    \"\"\"\n",
        "    plot multiple pictures\n",
        "    \"\"\"\n",
        "    plt.figure(figsize = (15, 25))\n",
        "    for i in range(len(arr)):\n",
        "        plt.subplot(1,len(arr),i + 1)\n",
        "        plt.title(title)\n",
        "        plt.imshow(arr[i]);\n",
        "\n",
        "        \n",
        "def d2Kmeans(img, k):\n",
        "    \"\"\"\n",
        "    Apply 2 dimensional KMeans algorithm on pictures\n",
        "    \"\"\"\n",
        "    return KMeans(n_jobs=-1, \n",
        "                  random_state=1, \n",
        "                  n_clusters = k, \n",
        "                  init='k-means++'\n",
        "    ).fit(img.reshape((-1,1))).labels_.reshape(img.shape)\n",
        "\n",
        "\n",
        "def merge_segmented_mask_ROI(uri_img, img_kluster):\n",
        "    \"\"\"\n",
        "    Merge original pricture and segmented picture\n",
        "    \"\"\"\n",
        "    new_img = uri_img.copy()\n",
        "    for ch in range(3):\n",
        "        new_img[:,:, ch] *= img_kluster\n",
        "    return new_img\n",
        "\n",
        "\n",
        "def mean_filter(image, radius):\n",
        "    \"\"\"\n",
        "    Create smooth boundaries of segmenation thourgh applying a gaussian mean blur\n",
        "    \"\"\"\n",
        "    return rank.mean_percentile(image, selem = disk(radius))\n",
        "\n",
        "\n",
        "def binary(image):\n",
        "    \"\"\"\n",
        "    Get round boundaries of the image when segmenting\n",
        "    \"\"\"\n",
        "    return image > threshold_otsu(image)\n",
        "\n",
        "\n",
        "def select_cluster_index(clusters):\n",
        "    \"\"\"\n",
        "    Chooose the right cluster index, which is the smallest, as the rest is background\n",
        "    \"\"\"\n",
        "    minx = clusters[0].mean()\n",
        "    index = 0\n",
        "    for i in clusters:\n",
        "        if i.mean() < minx:\n",
        "            minx = i.mean()\n",
        "            index += 1\n",
        "    return index\n",
        "\n",
        "\n",
        "def segment_image(img, k = 2):\n",
        "    \"\"\"\n",
        "    segment the image in skin mole versus background\n",
        "    \"\"\"\n",
        "    # Cluster the image\n",
        "    result_gray = d2Kmeans(rgb2grey(img), k)\n",
        "    \n",
        "    # Select the correct cluster\n",
        "    clusters_gray = [result_gray == i for i in range(k)]\n",
        "    selected_index = select_cluster_index(clusters_gray)\n",
        "    results_gray = clusters_gray[selected_index]\n",
        "    \n",
        "    # Apply smoothing of the boundaries\n",
        "    image_mean_filter = mean_filter(results_gray, 20)\n",
        "    test_binary = binary(image_mean_filter)\n",
        "    \n",
        "    # Create segmented picture with black background\n",
        "    new_img = merge_segmented_mask_ROI(img, test_binary)\n",
        "    \n",
        "    return new_img"
      ],
      "metadata": {
        "id": "wsTUMFAPaMcV"
      },
      "execution_count": 44,
      "outputs": []
    },
    {
      "cell_type": "code",
      "source": [
        "#Transfer 'jpg' images to an array IMG\n",
        "DIR = '/content/drive/MyDrive/skincancer/data/test/benign'\n",
        "benign_test = np.array([name for name in os.listdir(DIR) if os.path.isfile(os.path.join(DIR, name))])\n",
        "print(\"number of benign test data:\" + str(len(benign_test)))\n",
        "\n",
        "# number of malignant test data\n",
        "DIR = '/content/drive/MyDrive/skincancer/data/test/malignant'\n",
        "malignant_test = np.array([name for name in os.listdir(DIR) if os.path.isfile(os.path.join(DIR, name))])\n",
        "print(\"number of malignant test data:\" + str(len(malignant_test)))\n",
        "\n",
        "DIR = '/content/drive/MyDrive/skincancer/data/train/malignant'\n",
        "malignant_train = np.array([name for name in os.listdir(DIR) if os.path.isfile(os.path.join(DIR, name))])\n",
        "print(\"number of malignant train data:\" + str(len(malignant_train)))\n",
        "\n",
        "DIR = '/content/drive/MyDrive/skincancer/data/train/benign'\n",
        "benign_train = np.array([name for name in os.listdir(DIR) if os.path.isfile(os.path.join(DIR, name))])\n",
        "print(\"number of benign train data:\" + str(len(benign_train)))"
      ],
      "metadata": {
        "colab": {
          "base_uri": "https://localhost:8080/"
        },
        "id": "ggXxwNGYaP5F",
        "outputId": "77692c1f-f521-4f1c-d66e-6a7ed2699ecf"
      },
      "execution_count": 45,
      "outputs": [
        {
          "output_type": "stream",
          "name": "stdout",
          "text": [
            "number of benign test data:360\n",
            "number of malignant test data:300\n",
            "number of malignant train data:1197\n",
            "number of benign train data:1440\n"
          ]
        }
      ]
    },
    {
      "cell_type": "code",
      "source": [
        "benign_train_label = np.zeros(len(benign_train))\n",
        "malign_train_label = np.ones(len(malignant_train))\n",
        "benign_test_label = np.zeros(len(benign_test))\n",
        "malign_test_label = np.ones(len(malignant_test))\n",
        "\n",
        "# Merge data \n",
        "X_train = np.concatenate((benign_train, malignant_train), axis = 0)\n",
        "Y_train = np.concatenate((benign_train_label, malign_train_label), axis = 0)\n",
        "X_test = np.concatenate((benign_test, malignant_test), axis = 0)\n",
        "Y_test = np.concatenate((benign_test_label, malign_test_label), axis = 0)\n",
        "\n",
        "# Shuffle train data\n",
        "s = np.arange(X_train.shape[0])\n",
        "np.random.shuffle(s)\n",
        "X_train = X_train[s]\n",
        "Y_train = Y_train[s]\n",
        "\n",
        "# Shuffle test data\n",
        "s = np.arange(X_test.shape[0])\n",
        "np.random.shuffle(s)\n",
        "X_test = X_test[s]\n",
        "Y_test = Y_test[s]\n",
        "\n",
        "# To categorical\n",
        "Y_train = tf.keras.utils.to_categorical(Y_train, num_classes= 2)\n",
        "Y_test = tf.keras.utils.to_categorical(Y_test, num_classes= 2)"
      ],
      "metadata": {
        "id": "rslEjsvtR8QL"
      },
      "execution_count": 46,
      "outputs": []
    },
    {
      "cell_type": "code",
      "source": [
        "x_train, x_val, y_train, y_val = train_test_split(\n",
        "    X_train, Y_train, \n",
        "    test_size=0.2, \n",
        "    random_state=SEED\n",
        ")"
      ],
      "metadata": {
        "id": "fCdFrlINSORe"
      },
      "execution_count": 47,
      "outputs": []
    },
    {
      "cell_type": "code",
      "source": [
        "from tensorflow.keras.preprocessing.image import ImageDataGenerator\n",
        "\n",
        "\n",
        "# Add Image augmentation to our generator\n",
        "train_datagen = ImageDataGenerator(rescale=1./255,\n",
        "                                   rotation_range=360,\n",
        "                                   horizontal_flip=True,\n",
        "                                   vertical_flip=True,\n",
        "                                   width_shift_range=0.1,\n",
        "                                   height_shift_range=0.1,\n",
        "                                   zoom_range=(0.75,1),\n",
        "                                   brightness_range=(0.75,1.25)\n",
        "                                  )\n",
        "\n",
        "vtest_datagen = ImageDataGenerator(rescale = 1./255)\n",
        "\n",
        "training_set = train_datagen.flow_from_directory('/content/drive/MyDrive/skincancer/data/train',\n",
        "                                                 target_size = (224, 224),\n",
        "                                                 batch_size = 32,\n",
        "                                                 class_mode = 'categorical')\n",
        "\n",
        "test_set = vtest_datagen.flow_from_directory('/content/drive/MyDrive/skincancer/data/test',\n",
        "                                            target_size = (224, 224),\n",
        "                                            batch_size = 32,\n",
        "                                            class_mode = 'categorical')"
      ],
      "metadata": {
        "colab": {
          "base_uri": "https://localhost:8080/"
        },
        "id": "9NF50kgLSWUy",
        "outputId": "1f8f546d-a1df-4731-b0df-c3a0e9adf7c1"
      },
      "execution_count": 48,
      "outputs": [
        {
          "output_type": "stream",
          "name": "stdout",
          "text": [
            "Found 2637 images belonging to 2 classes.\n",
            "Found 660 images belonging to 2 classes.\n"
          ]
        }
      ]
    },
    {
      "cell_type": "code",
      "source": [
        "def build_model(backbone, lr=1e-4):\n",
        "    model = tf.keras.Sequential()\n",
        "    model.add(backbone)\n",
        "    model.add(tf.keras.layers.GlobalAveragePooling2D())\n",
        "    model.add(tf.keras.layers.Dropout(0.5))\n",
        "    model.add(tf.keras.layers.BatchNormalization())\n",
        "    model.add(tf.keras.layers.Dense(2, activation='softmax'))\n",
        "    \n",
        "    return model"
      ],
      "metadata": {
        "id": "D9E_Vd2VSXYg"
      },
      "execution_count": 49,
      "outputs": []
    },
    {
      "cell_type": "code",
      "source": [
        "from tensorflow.python.keras.optimizer_v2.optimizer_v2 import OptimizerV2\n",
        "\n",
        "from tensorflow.python.ops.gen_math_ops import *\n",
        "from tensorflow.python.keras import backend as K\n",
        "\n",
        "__all__ = ['RAdam']\n",
        "\n",
        "\n",
        "class RAdam(OptimizerV2):\n",
        "    \"\"\"RAdam optimizer.\n",
        "    According to the paper\n",
        "    [On The Variance Of The Adaptive Learning Rate And Beyond](https://arxiv.org/pdf/1908.03265v1.pdf).\n",
        "    \"\"\"\n",
        "\n",
        "    def __init__(self,\n",
        "                 learning_rate=0.001,\n",
        "                 beta_1=0.9,\n",
        "                 beta_2=0.999,\n",
        "                 epsilon=1e-7,\n",
        "                 weight_decay=0.,\n",
        "                 amsgrad=False,\n",
        "                 total_steps=0,\n",
        "                 warmup_proportion=0.1,\n",
        "                 min_lr=0.,\n",
        "                 name='RAdam',\n",
        "                 **kwargs):\n",
        "        r\"\"\"Construct a new Adam optimizer.\n",
        "        Args:\n",
        "            learning_rate: A Tensor or a floating point value.    The learning rate.\n",
        "            beta_1: A float value or a constant float tensor. The exponential decay\n",
        "                rate for the 1st moment estimates.\n",
        "            beta_2: A float value or a constant float tensor. The exponential decay\n",
        "                rate for the 2nd moment estimates.\n",
        "            epsilon: A small constant for numerical stability. This epsilon is\n",
        "                \"epsilon hat\" in the Kingma and Ba paper (in the formula just before\n",
        "                Section 2.1), not the epsilon in Algorithm 1 of the paper.\n",
        "            weight_decay: A floating point value. Weight decay for each param.\n",
        "            amsgrad: boolean. Whether to apply AMSGrad variant of this algorithm from\n",
        "                the paper \"On the Convergence of Adam and beyond\".\n",
        "            total_steps: An integer. Total number of training steps.\n",
        "                Enable warmup by setting a positive value.\n",
        "            warmup_proportion: A floating point value. The proportion of increasing steps.\n",
        "            min_lr: A floating point value. Minimum learning rate after warmup.\n",
        "            name: Optional name for the operations created when applying gradients.\n",
        "                Defaults to \"Adam\".    @compatibility(eager) When eager execution is\n",
        "                enabled, `learning_rate`, `beta_1`, `beta_2`, and `epsilon` can each be\n",
        "                a callable that takes no arguments and returns the actual value to use.\n",
        "                This can be useful for changing these values across different\n",
        "                invocations of optimizer functions. @end_compatibility\n",
        "            **kwargs: keyword arguments. Allowed to be {`clipnorm`, `clipvalue`, `lr`,\n",
        "                `decay`}. `clipnorm` is clip gradients by norm; `clipvalue` is clip\n",
        "                gradients by value, `decay` is included for backward compatibility to\n",
        "                allow time inverse decay of learning rate. `lr` is included for backward\n",
        "                compatibility, recommended to use `learning_rate` instead.\n",
        "        \"\"\"\n",
        "\n",
        "        super(RAdam, self).__init__(name, **kwargs)\n",
        "        self._set_hyper('learning_rate', kwargs.get('lr', learning_rate))\n",
        "        self._set_hyper('beta_1', beta_1)\n",
        "        self._set_hyper('beta_2', beta_2)\n",
        "        self._set_hyper('decay', self._initial_decay)\n",
        "        self._set_hyper('weight_decay', weight_decay)\n",
        "        self._set_hyper('total_steps', float(total_steps))\n",
        "        self._set_hyper('warmup_proportion', warmup_proportion)\n",
        "        self._set_hyper('min_lr', min_lr)\n",
        "        self.epsilon = epsilon or K.epsilon()\n",
        "        self.amsgrad = amsgrad\n",
        "        self._initial_weight_decay = weight_decay\n",
        "        self._initial_total_steps = total_steps\n",
        "\n",
        "    def _create_slots(self, var_list):\n",
        "        for var in var_list:\n",
        "            self.add_slot(var, 'm')\n",
        "        for var in var_list:\n",
        "            self.add_slot(var, 'v')\n",
        "        if self.amsgrad:\n",
        "            for var in var_list:\n",
        "                self.add_slot(var, 'vhat')\n",
        "\n",
        "    def set_weights(self, weights):\n",
        "        params = self.weights\n",
        "        num_vars = int((len(params) - 1) / 2)\n",
        "        if len(weights) == 3 * num_vars + 1:\n",
        "            weights = weights[:len(params)]\n",
        "        super(RAdam, self).set_weights(weights)\n",
        "\n",
        "    def _resource_apply_dense(self, grad, var):\n",
        "        var_dtype = var.dtype.base_dtype\n",
        "        lr_t = self._decayed_lr(var_dtype)\n",
        "        m = self.get_slot(var, 'm')\n",
        "        v = self.get_slot(var, 'v')\n",
        "        beta_1_t = self._get_hyper('beta_1', var_dtype)\n",
        "        beta_2_t = self._get_hyper('beta_2', var_dtype)\n",
        "        epsilon_t = ops.convert_to_tensor(self.epsilon, var_dtype)\n",
        "        local_step = math_ops.cast(self.iterations + 1, var_dtype)\n",
        "        beta_1_power = math_ops.pow(beta_1_t, local_step)\n",
        "        beta_2_power = math_ops.pow(beta_2_t, local_step)\n",
        "\n",
        "        if self._initial_total_steps > 0:\n",
        "            total_steps = self._get_hyper('total_steps', var_dtype)\n",
        "            warmup_steps = total_steps * self._get_hyper('warmup_proportion', var_dtype)\n",
        "            min_lr = self._get_hyper('min_lr', var_dtype)\n",
        "            decay_steps = K.maximum(total_steps - warmup_steps, 1)\n",
        "            decay_rate = (min_lr - lr_t) / decay_steps\n",
        "            lr_t = tf.where(\n",
        "                local_step <= warmup_steps,\n",
        "                lr_t * (local_step / warmup_steps),\n",
        "                lr_t + decay_rate * K.minimum(local_step - warmup_steps, decay_steps),\n",
        "            )\n",
        "\n",
        "        sma_inf = 2.0 / (1.0 - beta_2_t) - 1.0\n",
        "        sma_t = sma_inf - 2.0 * local_step * beta_2_power / (1.0 - beta_2_power)\n",
        "\n",
        "        m_t = state_ops.assign(m,\n",
        "                               beta_1_t * m + (1.0 - beta_1_t) * grad,\n",
        "                               use_locking=self._use_locking)\n",
        "        m_corr_t = m_t / (1.0 - beta_1_power)\n",
        "\n",
        "        v_t = state_ops.assign(v,\n",
        "                               beta_2_t * v + (1.0 - beta_2_t) * math_ops.square(grad),\n",
        "                               use_locking=self._use_locking)\n",
        "        if self.amsgrad:\n",
        "            vhat = self.get_slot(var, 'vhat')\n",
        "            vhat_t = state_ops.assign(vhat,\n",
        "                                      math_ops.maximum(vhat, v_t),\n",
        "                                      use_locking=self._use_locking)\n",
        "            v_corr_t = math_ops.sqrt(vhat_t / (1.0 - beta_2_power))\n",
        "        else:\n",
        "            vhat_t = None\n",
        "            v_corr_t = math_ops.sqrt(v_t / (1.0 - beta_2_power))\n",
        "\n",
        "        r_t = math_ops.sqrt((sma_t - 4.0) / (sma_inf - 4.0) *\n",
        "                            (sma_t - 2.0) / (sma_inf - 2.0) *\n",
        "                            sma_inf / sma_t)\n",
        "\n",
        "        var_t = tf.where(sma_t >= 5.0, r_t * m_corr_t / (v_corr_t + epsilon_t), m_corr_t)\n",
        "\n",
        "        if self._initial_weight_decay > 0.0:\n",
        "            var_t += self._get_hyper('weight_decay', var_dtype) * var\n",
        "\n",
        "        var_update = state_ops.assign_sub(var,\n",
        "                                          lr_t * var_t,\n",
        "                                          use_locking=self._use_locking)\n",
        "\n",
        "        updates = [var_update, m_t, v_t]\n",
        "        if self.amsgrad:\n",
        "            updates.append(vhat_t)\n",
        "        return control_flow_ops.group(*updates)\n",
        "\n",
        "    def _resource_apply_sparse(self, grad, var, indices):\n",
        "        var_dtype = var.dtype.base_dtype\n",
        "        lr_t = self._decayed_lr(var_dtype)\n",
        "        beta_1_t = self._get_hyper('beta_1', var_dtype)\n",
        "        beta_2_t = self._get_hyper('beta_2', var_dtype)\n",
        "        epsilon_t = ops.convert_to_tensor(self.epsilon, var_dtype)\n",
        "        local_step = math_ops.cast(self.iterations + 1, var_dtype)\n",
        "        beta_1_power = math_ops.pow(beta_1_t, local_step)\n",
        "        beta_2_power = math_ops.pow(beta_2_t, local_step)\n",
        "\n",
        "        if self._initial_total_steps > 0:\n",
        "            total_steps = self._get_hyper('total_steps', var_dtype)\n",
        "            warmup_steps = total_steps * self._get_hyper('warmup_proportion', var_dtype)\n",
        "            min_lr = self._get_hyper('min_lr', var_dtype)\n",
        "            decay_steps = K.maximum(total_steps - warmup_steps, 1)\n",
        "            decay_rate = (min_lr - lr_t) / decay_steps\n",
        "            lr_t = tf.where(\n",
        "                local_step <= warmup_steps,\n",
        "                lr_t * (local_step / warmup_steps),\n",
        "                lr_t + decay_rate * K.minimum(local_step - warmup_steps, decay_steps),\n",
        "            )\n",
        "\n",
        "        sma_inf = 2.0 / (1.0 - beta_2_t) - 1.0\n",
        "        sma_t = sma_inf - 2.0 * local_step * beta_2_power / (1.0 - beta_2_power)\n",
        "\n",
        "        m = self.get_slot(var, 'm')\n",
        "        m_scaled_g_values = grad * (1 - beta_1_t)\n",
        "        m_t = state_ops.assign(m, m * beta_1_t, use_locking=self._use_locking)\n",
        "        with ops.control_dependencies([m_t]):\n",
        "            m_t = self._resource_scatter_add(m, indices, m_scaled_g_values)\n",
        "        m_corr_t = m_t / (1.0 - beta_1_power)\n",
        "\n",
        "        v = self.get_slot(var, 'v')\n",
        "        v_scaled_g_values = (grad * grad) * (1 - beta_2_t)\n",
        "        v_t = state_ops.assign(v, v * beta_2_t, use_locking=self._use_locking)\n",
        "        with ops.control_dependencies([v_t]):\n",
        "            v_t = self._resource_scatter_add(v, indices, v_scaled_g_values)\n",
        "\n",
        "        if self.amsgrad:\n",
        "            vhat = self.get_slot(var, 'vhat')\n",
        "            vhat_t = state_ops.assign(vhat,\n",
        "                                      math_ops.maximum(vhat, v_t),\n",
        "                                      use_locking=self._use_locking)\n",
        "            v_corr_t = math_ops.sqrt(vhat_t / (1.0 - beta_2_power))\n",
        "        else:\n",
        "            vhat_t = None\n",
        "            v_corr_t = math_ops.sqrt(v_t / (1.0 - beta_2_power))\n",
        "\n",
        "        r_t = math_ops.sqrt((sma_t - 4.0) / (sma_inf - 4.0) *\n",
        "                            (sma_t - 2.0) / (sma_inf - 2.0) *\n",
        "                            sma_inf / sma_t)\n",
        "\n",
        "        var_t = tf.where(sma_t >= 5.0, r_t * m_corr_t / (v_corr_t + epsilon_t), m_corr_t)\n",
        "\n",
        "        if self._initial_weight_decay > 0.0:\n",
        "            var_t += self._get_hyper('weight_decay', var_dtype) * var\n",
        "\n",
        "        var_update = self._resource_scatter_add(var, indices, tf.gather(-lr_t * var_t, indices))\n",
        "\n",
        "        updates = [var_update, m_t, v_t]\n",
        "        if self.amsgrad:\n",
        "            updates.append(vhat_t)\n",
        "        return control_flow_ops.group(*updates)\n",
        "\n",
        "    def get_config(self):\n",
        "        config = super(RAdam, self).get_config()\n",
        "        config.update({\n",
        "            'learning_rate': self._serialize_hyperparameter('learning_rate'),\n",
        "            'beta_1': self._serialize_hyperparameter('beta_1'),\n",
        "            'beta_2': self._serialize_hyperparameter('beta_2'),\n",
        "            'decay': self._serialize_hyperparameter('decay'),\n",
        "            'weight_decay': self._serialize_hyperparameter('weight_decay'),\n",
        "            'epsilon': self.epsilon,\n",
        "            'amsgrad': self.amsgrad,\n",
        "            'total_steps': self._serialize_hyperparameter('total_steps'),\n",
        "            'warmup_proportion': self._serialize_hyperparameter('warmup_proportion'),\n",
        "            'min_lr': self._serialize_hyperparameter('min_lr'),\n",
        "        })\n",
        "        return config"
      ],
      "metadata": {
        "id": "gwamQ3aKShZM"
      },
      "execution_count": 50,
      "outputs": []
    },
    {
      "cell_type": "code",
      "source": [
        "efficientnetb3 = efn.EfficientNetB1(\n",
        "        weights='imagenet',\n",
        "        input_shape=(240,240,3),\n",
        "        include_top=False\n",
        "                   )\n",
        "\n",
        "model = build_model(efficientnetb3)\n",
        "model.summary()\n",
        "\n",
        "\n",
        "\n"
      ],
      "metadata": {
        "colab": {
          "base_uri": "https://localhost:8080/"
        },
        "id": "cwL67jhBSie2",
        "outputId": "634ef4e4-239f-45e0-eb33-27a3d7e20551"
      },
      "execution_count": 51,
      "outputs": [
        {
          "output_type": "stream",
          "name": "stdout",
          "text": [
            "Downloading data from https://github.com/Callidior/keras-applications/releases/download/efficientnet/efficientnet-b1_weights_tf_dim_ordering_tf_kernels_autoaugment_notop.h5\n",
            "27164672/27164032 [==============================] - 0s 0us/step\n",
            "27172864/27164032 [==============================] - 0s 0us/step\n",
            "Model: \"sequential_2\"\n",
            "_________________________________________________________________\n",
            " Layer (type)                Output Shape              Param #   \n",
            "=================================================================\n",
            " efficientnet-b1 (Functional  (None, 8, 8, 1280)       6575232   \n",
            " )                                                               \n",
            "                                                                 \n",
            " global_average_pooling2d_2   (None, 1280)             0         \n",
            " (GlobalAveragePooling2D)                                        \n",
            "                                                                 \n",
            " dropout_2 (Dropout)         (None, 1280)              0         \n",
            "                                                                 \n",
            " batch_normalization_2 (Batc  (None, 1280)             5120      \n",
            " hNormalization)                                                 \n",
            "                                                                 \n",
            " dense_2 (Dense)             (None, 2)                 2562      \n",
            "                                                                 \n",
            "=================================================================\n",
            "Total params: 6,582,914\n",
            "Trainable params: 6,518,306\n",
            "Non-trainable params: 64,608\n",
            "_________________________________________________________________\n"
          ]
        }
      ]
    },
    {
      "cell_type": "code",
      "source": [
        "\n",
        "model.compile(\n",
        "        loss='categorical_crossentropy',\n",
        "        optimizer='Adam',\n",
        "        \n",
        "        metrics=['accuracy']\n",
        "    )"
      ],
      "metadata": {
        "id": "UZ_rXBNdSyvp"
      },
      "execution_count": 52,
      "outputs": []
    },
    {
      "cell_type": "code",
      "source": [
        ""
      ],
      "metadata": {
        "id": "j8IJ8ftDqPRV"
      },
      "execution_count": 52,
      "outputs": []
    },
    {
      "cell_type": "code",
      "source": [
        "# Learning Rate Reducer\n",
        "learn_control = tf.keras.callbacks.ReduceLROnPlateau(monitor='val_accuracy', \n",
        "                                  patience=5,\n",
        "                                  verbose=1,\n",
        "                                  factor=0.2, \n",
        "                                  min_lr=1e-7)\n",
        "\n",
        "# Checkpoint\n",
        "#filepath=\"weights.best.hdf5\"\n",
        "#checkpoint = tf.keras.callbacks.ModelCheckpoint(filepath, monitor='val_acc', verbose=1, save_best_only=True, mode='max')\n"
      ],
      "metadata": {
        "id": "WJ0t5w_wtycz"
      },
      "execution_count": 53,
      "outputs": []
    },
    {
      "cell_type": "code",
      "source": [
        "history = model.fit(\n",
        "    training_set,\n",
        "    steps_per_epoch= x_train.shape[0]//65,\n",
        "    epochs=50,\n",
        "    validation_data=test_set,\n",
        "    validation_steps = x_val.shape[0]//65,\n",
        "    callbacks=[learn_control]\n",
        ")\n"
      ],
      "metadata": {
        "colab": {
          "base_uri": "https://localhost:8080/"
        },
        "id": "7k0V1XoiuA7Q",
        "outputId": "68d72c22-c5f4-4934-81df-64cda760ef29"
      },
      "execution_count": 54,
      "outputs": [
        {
          "output_type": "stream",
          "name": "stdout",
          "text": [
            "Epoch 1/50\n",
            "32/32 [==============================] - 36s 727ms/step - loss: 0.5849 - accuracy: 0.7686 - val_loss: 0.9671 - val_accuracy: 0.5664 - lr: 0.0010\n",
            "Epoch 2/50\n",
            "32/32 [==============================] - 22s 679ms/step - loss: 0.4499 - accuracy: 0.8086 - val_loss: 1.5137 - val_accuracy: 0.5625 - lr: 0.0010\n",
            "Epoch 3/50\n",
            "32/32 [==============================] - 22s 678ms/step - loss: 0.5308 - accuracy: 0.7821 - val_loss: 1.2791 - val_accuracy: 0.5859 - lr: 0.0010\n",
            "Epoch 4/50\n",
            "32/32 [==============================] - 22s 686ms/step - loss: 0.3970 - accuracy: 0.8213 - val_loss: 1.2741 - val_accuracy: 0.5664 - lr: 0.0010\n",
            "Epoch 5/50\n",
            "32/32 [==============================] - 22s 667ms/step - loss: 0.3381 - accuracy: 0.8597 - val_loss: 1.0564 - val_accuracy: 0.6328 - lr: 0.0010\n",
            "Epoch 6/50\n",
            "32/32 [==============================] - 22s 672ms/step - loss: 0.3423 - accuracy: 0.8408 - val_loss: 0.5754 - val_accuracy: 0.7266 - lr: 0.0010\n",
            "Epoch 7/50\n",
            "32/32 [==============================] - 22s 670ms/step - loss: 0.3297 - accuracy: 0.8525 - val_loss: 0.4555 - val_accuracy: 0.7773 - lr: 0.0010\n",
            "Epoch 8/50\n",
            "32/32 [==============================] - 21s 662ms/step - loss: 0.3153 - accuracy: 0.8577 - val_loss: 0.5081 - val_accuracy: 0.7422 - lr: 0.0010\n",
            "Epoch 9/50\n",
            "32/32 [==============================] - 22s 674ms/step - loss: 0.2862 - accuracy: 0.8828 - val_loss: 0.5621 - val_accuracy: 0.7383 - lr: 0.0010\n",
            "Epoch 10/50\n",
            "32/32 [==============================] - 22s 673ms/step - loss: 0.2748 - accuracy: 0.8672 - val_loss: 0.3351 - val_accuracy: 0.8594 - lr: 0.0010\n",
            "Epoch 11/50\n",
            "32/32 [==============================] - 22s 668ms/step - loss: 0.2888 - accuracy: 0.8760 - val_loss: 0.3182 - val_accuracy: 0.8359 - lr: 0.0010\n",
            "Epoch 12/50\n",
            "32/32 [==============================] - 22s 669ms/step - loss: 0.2828 - accuracy: 0.8770 - val_loss: 0.3847 - val_accuracy: 0.7891 - lr: 0.0010\n",
            "Epoch 13/50\n",
            "32/32 [==============================] - 22s 666ms/step - loss: 0.2821 - accuracy: 0.8607 - val_loss: 0.4519 - val_accuracy: 0.8008 - lr: 0.0010\n",
            "Epoch 14/50\n",
            "32/32 [==============================] - 22s 676ms/step - loss: 0.2820 - accuracy: 0.8857 - val_loss: 0.3334 - val_accuracy: 0.8281 - lr: 0.0010\n",
            "Epoch 15/50\n",
            "32/32 [==============================] - ETA: 0s - loss: 0.2407 - accuracy: 0.8877\n",
            "Epoch 00015: ReduceLROnPlateau reducing learning rate to 0.00020000000949949026.\n",
            "32/32 [==============================] - 22s 671ms/step - loss: 0.2407 - accuracy: 0.8877 - val_loss: 0.3721 - val_accuracy: 0.8438 - lr: 0.0010\n",
            "Epoch 16/50\n",
            "32/32 [==============================] - 22s 669ms/step - loss: 0.2603 - accuracy: 0.8828 - val_loss: 0.3265 - val_accuracy: 0.8555 - lr: 2.0000e-04\n",
            "Epoch 17/50\n",
            "32/32 [==============================] - 21s 660ms/step - loss: 0.2276 - accuracy: 0.9015 - val_loss: 0.2245 - val_accuracy: 0.9141 - lr: 2.0000e-04\n",
            "Epoch 18/50\n",
            "32/32 [==============================] - 22s 665ms/step - loss: 0.2198 - accuracy: 0.9055 - val_loss: 0.2738 - val_accuracy: 0.8555 - lr: 2.0000e-04\n",
            "Epoch 19/50\n",
            "32/32 [==============================] - 22s 675ms/step - loss: 0.2090 - accuracy: 0.9102 - val_loss: 0.2236 - val_accuracy: 0.8828 - lr: 2.0000e-04\n",
            "Epoch 20/50\n",
            "32/32 [==============================] - 22s 677ms/step - loss: 0.2188 - accuracy: 0.9053 - val_loss: 0.2619 - val_accuracy: 0.8828 - lr: 2.0000e-04\n",
            "Epoch 21/50\n",
            "32/32 [==============================] - 21s 660ms/step - loss: 0.2280 - accuracy: 0.9005 - val_loss: 0.2670 - val_accuracy: 0.8672 - lr: 2.0000e-04\n",
            "Epoch 22/50\n",
            "32/32 [==============================] - ETA: 0s - loss: 0.1889 - accuracy: 0.9244\n",
            "Epoch 00022: ReduceLROnPlateau reducing learning rate to 4.0000001899898055e-05.\n",
            "32/32 [==============================] - 21s 656ms/step - loss: 0.1889 - accuracy: 0.9244 - val_loss: 0.2398 - val_accuracy: 0.8984 - lr: 2.0000e-04\n",
            "Epoch 23/50\n",
            "32/32 [==============================] - 22s 673ms/step - loss: 0.1867 - accuracy: 0.9189 - val_loss: 0.2494 - val_accuracy: 0.8867 - lr: 4.0000e-05\n",
            "Epoch 24/50\n",
            "32/32 [==============================] - 22s 671ms/step - loss: 0.1727 - accuracy: 0.9307 - val_loss: 0.2217 - val_accuracy: 0.8789 - lr: 4.0000e-05\n",
            "Epoch 25/50\n",
            "32/32 [==============================] - 22s 671ms/step - loss: 0.2031 - accuracy: 0.9180 - val_loss: 0.2424 - val_accuracy: 0.8750 - lr: 4.0000e-05\n",
            "Epoch 26/50\n",
            "32/32 [==============================] - 21s 658ms/step - loss: 0.1936 - accuracy: 0.9114 - val_loss: 0.2141 - val_accuracy: 0.9062 - lr: 4.0000e-05\n",
            "Epoch 27/50\n",
            "32/32 [==============================] - ETA: 0s - loss: 0.2103 - accuracy: 0.9131\n",
            "Epoch 00027: ReduceLROnPlateau reducing learning rate to 8.000000525498762e-06.\n",
            "32/32 [==============================] - 22s 666ms/step - loss: 0.2103 - accuracy: 0.9131 - val_loss: 0.2129 - val_accuracy: 0.9062 - lr: 4.0000e-05\n",
            "Epoch 28/50\n",
            "32/32 [==============================] - 21s 660ms/step - loss: 0.1873 - accuracy: 0.9134 - val_loss: 0.2428 - val_accuracy: 0.8945 - lr: 8.0000e-06\n",
            "Epoch 29/50\n",
            "32/32 [==============================] - 22s 686ms/step - loss: 0.1645 - accuracy: 0.9287 - val_loss: 0.2430 - val_accuracy: 0.8828 - lr: 8.0000e-06\n",
            "Epoch 30/50\n",
            "32/32 [==============================] - 22s 679ms/step - loss: 0.1785 - accuracy: 0.9284 - val_loss: 0.2662 - val_accuracy: 0.8828 - lr: 8.0000e-06\n",
            "Epoch 31/50\n",
            "32/32 [==============================] - 21s 661ms/step - loss: 0.1952 - accuracy: 0.9144 - val_loss: 0.2301 - val_accuracy: 0.9023 - lr: 8.0000e-06\n",
            "Epoch 32/50\n",
            "32/32 [==============================] - ETA: 0s - loss: 0.1804 - accuracy: 0.9170\n",
            "Epoch 00032: ReduceLROnPlateau reducing learning rate to 1.6000001778593287e-06.\n",
            "32/32 [==============================] - 22s 677ms/step - loss: 0.1804 - accuracy: 0.9170 - val_loss: 0.2765 - val_accuracy: 0.8477 - lr: 8.0000e-06\n",
            "Epoch 33/50\n",
            "32/32 [==============================] - 22s 668ms/step - loss: 0.1749 - accuracy: 0.9229 - val_loss: 0.2143 - val_accuracy: 0.9023 - lr: 1.6000e-06\n",
            "Epoch 34/50\n",
            "32/32 [==============================] - 21s 663ms/step - loss: 0.1777 - accuracy: 0.9254 - val_loss: 0.2524 - val_accuracy: 0.8672 - lr: 1.6000e-06\n",
            "Epoch 35/50\n",
            "32/32 [==============================] - 22s 667ms/step - loss: 0.2114 - accuracy: 0.9102 - val_loss: 0.2310 - val_accuracy: 0.8828 - lr: 1.6000e-06\n",
            "Epoch 36/50\n",
            "32/32 [==============================] - 22s 662ms/step - loss: 0.1728 - accuracy: 0.9313 - val_loss: 0.1831 - val_accuracy: 0.9141 - lr: 1.6000e-06\n",
            "Epoch 37/50\n",
            "32/32 [==============================] - 22s 681ms/step - loss: 0.1879 - accuracy: 0.9229 - val_loss: 0.2091 - val_accuracy: 0.9180 - lr: 1.6000e-06\n",
            "Epoch 38/50\n",
            "32/32 [==============================] - 22s 681ms/step - loss: 0.1842 - accuracy: 0.9164 - val_loss: 0.2255 - val_accuracy: 0.8945 - lr: 1.6000e-06\n",
            "Epoch 39/50\n",
            "32/32 [==============================] - 22s 664ms/step - loss: 0.1952 - accuracy: 0.9214 - val_loss: 0.2354 - val_accuracy: 0.8828 - lr: 1.6000e-06\n",
            "Epoch 40/50\n",
            "32/32 [==============================] - 22s 670ms/step - loss: 0.1738 - accuracy: 0.9219 - val_loss: 0.2165 - val_accuracy: 0.8867 - lr: 1.6000e-06\n",
            "Epoch 41/50\n",
            "32/32 [==============================] - 22s 678ms/step - loss: 0.1565 - accuracy: 0.9404 - val_loss: 0.2556 - val_accuracy: 0.8633 - lr: 1.6000e-06\n",
            "Epoch 42/50\n",
            "32/32 [==============================] - ETA: 0s - loss: 0.2221 - accuracy: 0.9121\n",
            "Epoch 00042: ReduceLROnPlateau reducing learning rate to 3.200000264769187e-07.\n",
            "32/32 [==============================] - 22s 669ms/step - loss: 0.2221 - accuracy: 0.9121 - val_loss: 0.3024 - val_accuracy: 0.8516 - lr: 1.6000e-06\n",
            "Epoch 43/50\n",
            "32/32 [==============================] - 22s 668ms/step - loss: 0.1715 - accuracy: 0.9313 - val_loss: 0.1806 - val_accuracy: 0.9219 - lr: 3.2000e-07\n",
            "Epoch 44/50\n",
            "32/32 [==============================] - 21s 662ms/step - loss: 0.1671 - accuracy: 0.9254 - val_loss: 0.2041 - val_accuracy: 0.9141 - lr: 3.2000e-07\n",
            "Epoch 45/50\n",
            "32/32 [==============================] - 22s 667ms/step - loss: 0.1619 - accuracy: 0.9316 - val_loss: 0.2350 - val_accuracy: 0.8945 - lr: 3.2000e-07\n",
            "Epoch 46/50\n",
            "32/32 [==============================] - 22s 674ms/step - loss: 0.1633 - accuracy: 0.9336 - val_loss: 0.2232 - val_accuracy: 0.8828 - lr: 3.2000e-07\n",
            "Epoch 47/50\n",
            "32/32 [==============================] - 21s 662ms/step - loss: 0.1837 - accuracy: 0.9248 - val_loss: 0.2214 - val_accuracy: 0.9023 - lr: 3.2000e-07\n",
            "Epoch 48/50\n",
            "32/32 [==============================] - ETA: 0s - loss: 0.1623 - accuracy: 0.9303\n",
            "Epoch 00048: ReduceLROnPlateau reducing learning rate to 1e-07.\n",
            "32/32 [==============================] - 21s 657ms/step - loss: 0.1623 - accuracy: 0.9303 - val_loss: 0.2074 - val_accuracy: 0.8984 - lr: 3.2000e-07\n",
            "Epoch 49/50\n",
            "32/32 [==============================] - 22s 676ms/step - loss: 0.1943 - accuracy: 0.9199 - val_loss: 0.2624 - val_accuracy: 0.8750 - lr: 1.0000e-07\n",
            "Epoch 50/50\n",
            "32/32 [==============================] - 22s 668ms/step - loss: 0.1553 - accuracy: 0.9346 - val_loss: 0.2479 - val_accuracy: 0.8906 - lr: 1.0000e-07\n"
          ]
        }
      ]
    },
    {
      "cell_type": "code",
      "source": [
        "import matplotlib.pyplot as plt\n",
        "\n",
        "loss_train = history.history['loss']\n",
        "loss_val = history.history['val_loss']\n",
        "epochs = range(0,50)\n",
        "plt.plot(epochs, loss_train, 'g', label='Training loss')\n",
        "plt.plot(epochs, loss_val, 'b', label='validation loss')\n",
        "plt.title('Training and Validation loss')\n",
        "plt.xlabel('Epochs')\n",
        "plt.ylabel('Loss')\n",
        "plt.legend()\n",
        "plt.show()\n",
        "\n",
        "loss_train = history.history['accuracy']\n",
        "loss_val = history.history['val_accuracy']\n",
        "epochs = range(0,50)\n",
        "plt.plot(epochs, loss_train, 'g', label='Training accuracy')\n",
        "plt.plot(epochs, loss_val, 'b', label='validation accuracy')\n",
        "plt.title('Training and Validation loss')\n",
        "plt.xlabel('Epochs')\n",
        "plt.ylabel('Loss')\n",
        "plt.legend()\n",
        "plt.show()\n",
        "\n",
        "\n"
      ],
      "metadata": {
        "id": "prm1GLTWqfon",
        "colab": {
          "base_uri": "https://localhost:8080/",
          "height": 573
        },
        "outputId": "8599938d-e171-4e47-b9da-6153b1e05bad"
      },
      "execution_count": 55,
      "outputs": [
        {
          "output_type": "display_data",
          "data": {
            "image/png": "[encoded data removed]",
            "text/plain": [
              "<Figure size 432x288 with 1 Axes>"
            ]
          },
          "metadata": {
            "needs_background": "light"
          }
        },
        {
          "output_type": "display_data",
          "data": {
            "image/png": "[encoded data removed]",
            "text/plain": [
              "<Figure size 432x288 with 1 Axes>"
            ]
          },
          "metadata": {
            "needs_background": "light"
          }
        }
      ]
    },
    {
      "cell_type": "code",
      "source": [
        ""
      ],
      "metadata": {
        "id": "ttX7XJOj9oHM"
      },
      "execution_count": null,
      "outputs": []
    },
    {
      "cell_type": "code",
      "source": [
        ""
      ],
      "metadata": {
        "id": "BeqbmDxEV4Cc",
        "colab": {
          "base_uri": "https://localhost:8080/",
          "height": 183
        },
        "outputId": "f34a8a79-86c5-41ac-aed2-3c760f131b52"
      },
      "execution_count": 56,
      "outputs": [
        {
          "output_type": "error",
          "ename": "TypeError",
          "evalue": "ignored",
          "traceback": [
            "\u001b[0;31m---------------------------------------------------------------------------\u001b[0m",
            "\u001b[0;31mTypeError\u001b[0m                                 Traceback (most recent call last)",
            "\u001b[0;32m<ipython-input-56-b4c66639d8b8>\u001b[0m in \u001b[0;36m<module>\u001b[0;34m()\u001b[0m\n\u001b[0;32m----> 1\u001b[0;31m \u001b[0ma\u001b[0m\u001b[0;34m=\u001b[0m\u001b[0mhistory\u001b[0m\u001b[0;34m.\u001b[0m\u001b[0mhistory\u001b[0m\u001b[0;34m[\u001b[0m\u001b[0;34m'accuracy'\u001b[0m\u001b[0;34m]\u001b[0m\u001b[0;34m/\u001b[0m\u001b[0;36m50\u001b[0m\u001b[0;34m\u001b[0m\u001b[0;34m\u001b[0m\u001b[0m\n\u001b[0m\u001b[1;32m      2\u001b[0m \u001b[0mprint\u001b[0m\u001b[0;34m(\u001b[0m\u001b[0ma\u001b[0m\u001b[0;34m)\u001b[0m\u001b[0;34m\u001b[0m\u001b[0;34m\u001b[0m\u001b[0m\n",
            "\u001b[0;31mTypeError\u001b[0m: unsupported operand type(s) for /: 'list' and 'int'"
          ]
        }
      ]
    },
    {
      "cell_type": "markdown",
      "source": [
        "# New Section"
      ],
      "metadata": {
        "id": "Yu5ybR3VNNWh"
      }
    }
  ]
}