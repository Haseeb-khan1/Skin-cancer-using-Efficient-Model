{
  "nbformat": 4,
  "nbformat_minor": 0,
  "metadata": {
    "colab": {
      "name": "Copy of Untitled3.ipynb",
      "provenance": [],
      "collapsed_sections": []
    },
    "kernelspec": {
      "name": "python3",
      "display_name": "Python 3"
    },
    "language_info": {
      "name": "python"
    },
    "accelerator": "GPU"
  },
  "cells": [
    {
      "cell_type": "code",
      "execution_count": 1,
      "metadata": {
        "id": "pirvFOfLNLMn"
      },
      "outputs": [],
      "source": [
        "import json\n",
        "import math\n",
        "import os\n",
        "\n",
        "import cv2\n",
        "from PIL import Image\n",
        "import numpy as np\n",
        "import tensorflow as tf\n",
        "from tensorflow import keras\n",
        "\n",
        "import matplotlib.pyplot as plt\n",
        "import pandas as pd\n",
        "from sklearn.model_selection import train_test_split\n",
        "from sklearn.metrics import cohen_kappa_score, accuracy_score\n",
        "import scipy\n",
        "from tqdm import tqdm\n",
        "import gc\n",
        "from functools import partial\n",
        "from sklearn import metrics\n",
        "from collections import Counter\n",
        "import json\n",
        "import itertools\n",
        "import tensorflow.compat.v1 as tf1\n",
        "%matplotlib inline"
      ]
    },
    {
      "cell_type": "code",
      "source": [
        "!pip install efficientnet\n",
        "import efficientnet.tfkeras as efn"
      ],
      "metadata": {
        "colab": {
          "base_uri": "https://localhost:8080/"
        },
        "id": "F1Gz3Z42ZQ89",
        "outputId": "d2e0b666-ce5d-4d29-8d36-918800650e57"
      },
      "execution_count": 2,
      "outputs": [
        {
          "output_type": "stream",
          "name": "stdout",
          "text": [
            "Collecting efficientnet\n",
            "  Downloading efficientnet-1.1.1-py3-none-any.whl (18 kB)\n",
            "Requirement already satisfied: scikit-image in /usr/local/lib/python3.7/dist-packages (from efficientnet) (0.18.3)\n",
            "Collecting keras-applications<=1.0.8,>=1.0.7\n",
            "  Downloading Keras_Applications-1.0.8-py3-none-any.whl (50 kB)\n",
            "\u001b[?25l\r\u001b[K     |██████▌                         | 10 kB 45.8 MB/s eta 0:00:01\r\u001b[K     |█████████████                   | 20 kB 24.5 MB/s eta 0:00:01\r\u001b[K     |███████████████████▍            | 30 kB 18.8 MB/s eta 0:00:01\r\u001b[K     |█████████████████████████▉      | 40 kB 16.7 MB/s eta 0:00:01\r\u001b[K     |████████████████████████████████| 50 kB 4.9 MB/s \n",
            "\u001b[?25hRequirement already satisfied: numpy>=1.9.1 in /usr/local/lib/python3.7/dist-packages (from keras-applications<=1.0.8,>=1.0.7->efficientnet) (1.19.5)\n",
            "Requirement already satisfied: h5py in /usr/local/lib/python3.7/dist-packages (from keras-applications<=1.0.8,>=1.0.7->efficientnet) (3.1.0)\n",
            "Requirement already satisfied: cached-property in /usr/local/lib/python3.7/dist-packages (from h5py->keras-applications<=1.0.8,>=1.0.7->efficientnet) (1.5.2)\n",
            "Requirement already satisfied: scipy>=1.0.1 in /usr/local/lib/python3.7/dist-packages (from scikit-image->efficientnet) (1.4.1)\n",
            "Requirement already satisfied: pillow!=7.1.0,!=7.1.1,>=4.3.0 in /usr/local/lib/python3.7/dist-packages (from scikit-image->efficientnet) (7.1.2)\n",
            "Requirement already satisfied: PyWavelets>=1.1.1 in /usr/local/lib/python3.7/dist-packages (from scikit-image->efficientnet) (1.2.0)\n",
            "Requirement already satisfied: matplotlib!=3.0.0,>=2.0.0 in /usr/local/lib/python3.7/dist-packages (from scikit-image->efficientnet) (3.2.2)\n",
            "Requirement already satisfied: networkx>=2.0 in /usr/local/lib/python3.7/dist-packages (from scikit-image->efficientnet) (2.6.3)\n",
            "Requirement already satisfied: tifffile>=2019.7.26 in /usr/local/lib/python3.7/dist-packages (from scikit-image->efficientnet) (2021.11.2)\n",
            "Requirement already satisfied: imageio>=2.3.0 in /usr/local/lib/python3.7/dist-packages (from scikit-image->efficientnet) (2.4.1)\n",
            "Requirement already satisfied: python-dateutil>=2.1 in /usr/local/lib/python3.7/dist-packages (from matplotlib!=3.0.0,>=2.0.0->scikit-image->efficientnet) (2.8.2)\n",
            "Requirement already satisfied: cycler>=0.10 in /usr/local/lib/python3.7/dist-packages (from matplotlib!=3.0.0,>=2.0.0->scikit-image->efficientnet) (0.11.0)\n",
            "Requirement already satisfied: pyparsing!=2.0.4,!=2.1.2,!=2.1.6,>=2.0.1 in /usr/local/lib/python3.7/dist-packages (from matplotlib!=3.0.0,>=2.0.0->scikit-image->efficientnet) (3.0.6)\n",
            "Requirement already satisfied: kiwisolver>=1.0.1 in /usr/local/lib/python3.7/dist-packages (from matplotlib!=3.0.0,>=2.0.0->scikit-image->efficientnet) (1.3.2)\n",
            "Requirement already satisfied: six>=1.5 in /usr/local/lib/python3.7/dist-packages (from python-dateutil>=2.1->matplotlib!=3.0.0,>=2.0.0->scikit-image->efficientnet) (1.15.0)\n",
            "Installing collected packages: keras-applications, efficientnet\n",
            "Successfully installed efficientnet-1.1.1 keras-applications-1.0.8\n"
          ]
        }
      ]
    },
    {
      "cell_type": "code",
      "source": [
        "SEED = 42\n",
        "np.random.seed(SEED)\n",
        "tf1.set_random_seed(SEED)"
      ],
      "metadata": {
        "id": "73MrcAkzZaU2"
      },
      "execution_count": 3,
      "outputs": []
    },
    {
      "cell_type": "code",
      "source": [
        "from skimage.filters import rank, threshold_otsu\n",
        "from skimage.color import rgb2grey\n",
        "from sklearn.cluster import KMeans\n",
        "from skimage.morphology import closing, square, disk"
      ],
      "metadata": {
        "id": "7C7TbywkZ2kt"
      },
      "execution_count": 4,
      "outputs": []
    },
    {
      "cell_type": "code",
      "source": [
        "def plot_any(arr, title = ''):\n",
        "    \"\"\"\n",
        "    plot multiple pictures\n",
        "    \"\"\"\n",
        "    plt.figure(figsize = (15, 25))\n",
        "    for i in range(len(arr)):\n",
        "        plt.subplot(1,len(arr),i + 1)\n",
        "        plt.title(title)\n",
        "        plt.imshow(arr[i]);\n",
        "\n",
        "        \n",
        "def d2Kmeans(img, k):\n",
        "    \"\"\"\n",
        "    Apply 2 dimensional KMeans algorithm on pictures\n",
        "    \"\"\"\n",
        "    return KMeans(n_jobs=-1, \n",
        "                  random_state=1, \n",
        "                  n_clusters = k, \n",
        "                  init='k-means++'\n",
        "    ).fit(img.reshape((-1,1))).labels_.reshape(img.shape)\n",
        "\n",
        "\n",
        "def merge_segmented_mask_ROI(uri_img, img_kluster):\n",
        "    \"\"\"\n",
        "    Merge original pricture and segmented picture\n",
        "    \"\"\"\n",
        "    new_img = uri_img.copy()\n",
        "    for ch in range(3):\n",
        "        new_img[:,:, ch] *= img_kluster\n",
        "    return new_img\n",
        "\n",
        "\n",
        "def mean_filter(image, radius):\n",
        "    \"\"\"\n",
        "    Create smooth boundaries of segmenation thourgh applying a gaussian mean blur\n",
        "    \"\"\"\n",
        "    return rank.mean_percentile(image, selem = disk(radius))\n",
        "\n",
        "\n",
        "def binary(image):\n",
        "    \"\"\"\n",
        "    Get round boundaries of the image when segmenting\n",
        "    \"\"\"\n",
        "    return image > threshold_otsu(image)\n",
        "\n",
        "\n",
        "def select_cluster_index(clusters):\n",
        "    \"\"\"\n",
        "    Chooose the right cluster index, which is the smallest, as the rest is background\n",
        "    \"\"\"\n",
        "    minx = clusters[0].mean()\n",
        "    index = 0\n",
        "    for i in clusters:\n",
        "        if i.mean() < minx:\n",
        "            minx = i.mean()\n",
        "            index += 1\n",
        "    return index\n",
        "\n",
        "\n",
        "def segment_image(img, k = 2):\n",
        "    \"\"\"\n",
        "    segment the image in skin mole versus background\n",
        "    \"\"\"\n",
        "    # Cluster the image\n",
        "    result_gray = d2Kmeans(rgb2grey(img), k)\n",
        "    \n",
        "    # Select the correct cluster\n",
        "    clusters_gray = [result_gray == i for i in range(k)]\n",
        "    selected_index = select_cluster_index(clusters_gray)\n",
        "    results_gray = clusters_gray[selected_index]\n",
        "    \n",
        "    # Apply smoothing of the boundaries\n",
        "    image_mean_filter = mean_filter(results_gray, 20)\n",
        "    test_binary = binary(image_mean_filter)\n",
        "    \n",
        "    # Create segmented picture with black background\n",
        "    new_img = merge_segmented_mask_ROI(img, test_binary)\n",
        "    \n",
        "    return new_img"
      ],
      "metadata": {
        "id": "wsTUMFAPaMcV"
      },
      "execution_count": 5,
      "outputs": []
    },
    {
      "cell_type": "code",
      "source": [
        "#Transfer 'jpg' images to an array IMG\n",
        "DIR = '/content/drive/MyDrive/skincancer/data/test/benign'\n",
        "benign_test = np.array([name for name in os.listdir(DIR) if os.path.isfile(os.path.join(DIR, name))])\n",
        "print(\"number of benign test data:\" + str(len(benign_test)))\n",
        "\n",
        "# number of malignant test data\n",
        "DIR = '/content/drive/MyDrive/skincancer/data/test/malignant'\n",
        "malignant_test = np.array([name for name in os.listdir(DIR) if os.path.isfile(os.path.join(DIR, name))])\n",
        "print(\"number of malignant test data:\" + str(len(malignant_test)))\n",
        "\n",
        "DIR = '/content/drive/MyDrive/skincancer/data/train/malignant'\n",
        "malignant_train = np.array([name for name in os.listdir(DIR) if os.path.isfile(os.path.join(DIR, name))])\n",
        "print(\"number of malignant train data:\" + str(len(malignant_train)))\n",
        "\n",
        "DIR = '/content/drive/MyDrive/skincancer/data/train/benign'\n",
        "benign_train = np.array([name for name in os.listdir(DIR) if os.path.isfile(os.path.join(DIR, name))])\n",
        "print(\"number of benign train data:\" + str(len(benign_train)))"
      ],
      "metadata": {
        "colab": {
          "base_uri": "https://localhost:8080/"
        },
        "id": "ggXxwNGYaP5F",
        "outputId": "639fa13b-2486-4217-c4e6-8525c202b61e"
      },
      "execution_count": 6,
      "outputs": [
        {
          "output_type": "stream",
          "name": "stdout",
          "text": [
            "number of benign test data:360\n",
            "number of malignant test data:300\n",
            "number of malignant train data:1197\n",
            "number of benign train data:1440\n"
          ]
        }
      ]
    },
    {
      "cell_type": "code",
      "source": [
        "benign_train_label = np.zeros(len(benign_train))\n",
        "malign_train_label = np.ones(len(malignant_train))\n",
        "benign_test_label = np.zeros(len(benign_test))\n",
        "malign_test_label = np.ones(len(malignant_test))\n",
        "\n",
        "# Merge data \n",
        "X_train = np.concatenate((benign_train, malignant_train), axis = 0)\n",
        "Y_train = np.concatenate((benign_train_label, malign_train_label), axis = 0)\n",
        "X_test = np.concatenate((benign_test, malignant_test), axis = 0)\n",
        "Y_test = np.concatenate((benign_test_label, malign_test_label), axis = 0)\n",
        "\n",
        "# Shuffle train data\n",
        "s = np.arange(X_train.shape[0])\n",
        "np.random.shuffle(s)\n",
        "X_train = X_train[s]\n",
        "Y_train = Y_train[s]\n",
        "\n",
        "# Shuffle test data\n",
        "s = np.arange(X_test.shape[0])\n",
        "np.random.shuffle(s)\n",
        "X_test = X_test[s]\n",
        "Y_test = Y_test[s]\n",
        "\n",
        "# To categorical\n",
        "Y_train = tf.keras.utils.to_categorical(Y_train, num_classes= 2)\n",
        "Y_test = tf.keras.utils.to_categorical(Y_test, num_classes= 2)"
      ],
      "metadata": {
        "id": "rslEjsvtR8QL"
      },
      "execution_count": 7,
      "outputs": []
    },
    {
      "cell_type": "code",
      "source": [
        "x_train, x_val, y_train, y_val = train_test_split(\n",
        "    X_train, Y_train, \n",
        "    test_size=0.2, \n",
        "    random_state=SEED\n",
        ")"
      ],
      "metadata": {
        "id": "fCdFrlINSORe"
      },
      "execution_count": 8,
      "outputs": []
    },
    {
      "cell_type": "code",
      "source": [
        "from tensorflow.keras.preprocessing.image import ImageDataGenerator\n",
        "\n",
        "\n",
        "# Add Image augmentation to our generator\n",
        "train_datagen = ImageDataGenerator(rescale=1./255,\n",
        "                                   rotation_range=360,\n",
        "                                   horizontal_flip=True,\n",
        "                                   vertical_flip=True,\n",
        "                                   width_shift_range=0.1,\n",
        "                                   height_shift_range=0.1,\n",
        "                                   zoom_range=(0.75,1),\n",
        "                                   brightness_range=(0.75,1.25)\n",
        "                                  )\n",
        "\n",
        "vtest_datagen = ImageDataGenerator(rescale = 1./255)\n",
        "\n",
        "training_set = train_datagen.flow_from_directory('/content/drive/MyDrive/skincancer/data/train',\n",
        "                                                 target_size = (224, 224),\n",
        "                                                 batch_size = 32,\n",
        "                                                 class_mode = 'categorical')\n",
        "\n",
        "test_set = vtest_datagen.flow_from_directory('/content/drive/MyDrive/skincancer/data/test',\n",
        "                                            target_size = (224, 224),\n",
        "                                            batch_size = 32,\n",
        "                                            class_mode = 'categorical')"
      ],
      "metadata": {
        "colab": {
          "base_uri": "https://localhost:8080/"
        },
        "id": "9NF50kgLSWUy",
        "outputId": "750039ed-740a-462d-a6a1-a5a0e48dcea0"
      },
      "execution_count": 9,
      "outputs": [
        {
          "output_type": "stream",
          "name": "stdout",
          "text": [
            "Found 2637 images belonging to 2 classes.\n",
            "Found 660 images belonging to 2 classes.\n"
          ]
        }
      ]
    },
    {
      "cell_type": "code",
      "source": [
        "def build_model(backbone, lr=1e-4):\n",
        "    model = tf.keras.Sequential()\n",
        "    model.add(backbone)\n",
        "    model.add(tf.keras.layers.GlobalAveragePooling2D())\n",
        "    model.add(tf.keras.layers.Dropout(0.5))\n",
        "    model.add(tf.keras.layers.BatchNormalization())\n",
        "    model.add(tf.keras.layers.Dense(2, activation='softmax'))\n",
        "    \n",
        "    return model"
      ],
      "metadata": {
        "id": "D9E_Vd2VSXYg"
      },
      "execution_count": 10,
      "outputs": []
    },
    {
      "cell_type": "code",
      "source": [
        "from tensorflow.python.keras.optimizer_v2.optimizer_v2 import OptimizerV2\n",
        "\n",
        "from tensorflow.python.ops.gen_math_ops import *\n",
        "from tensorflow.python.keras import backend as K\n",
        "\n",
        "__all__ = ['RAdam']\n",
        "\n",
        "\n",
        "class RAdam(OptimizerV2):\n",
        "    \"\"\"RAdam optimizer.\n",
        "    According to the paper\n",
        "    [On The Variance Of The Adaptive Learning Rate And Beyond](https://arxiv.org/pdf/1908.03265v1.pdf).\n",
        "    \"\"\"\n",
        "\n",
        "    def __init__(self,\n",
        "                 learning_rate=0.001,\n",
        "                 beta_1=0.9,\n",
        "                 beta_2=0.999,\n",
        "                 epsilon=1e-7,\n",
        "                 weight_decay=0.,\n",
        "                 amsgrad=False,\n",
        "                 total_steps=0,\n",
        "                 warmup_proportion=0.1,\n",
        "                 min_lr=0.,\n",
        "                 name='RAdam',\n",
        "                 **kwargs):\n",
        "        r\"\"\"Construct a new Adam optimizer.\n",
        "        Args:\n",
        "            learning_rate: A Tensor or a floating point value.    The learning rate.\n",
        "            beta_1: A float value or a constant float tensor. The exponential decay\n",
        "                rate for the 1st moment estimates.\n",
        "            beta_2: A float value or a constant float tensor. The exponential decay\n",
        "                rate for the 2nd moment estimates.\n",
        "            epsilon: A small constant for numerical stability. This epsilon is\n",
        "                \"epsilon hat\" in the Kingma and Ba paper (in the formula just before\n",
        "                Section 2.1), not the epsilon in Algorithm 1 of the paper.\n",
        "            weight_decay: A floating point value. Weight decay for each param.\n",
        "            amsgrad: boolean. Whether to apply AMSGrad variant of this algorithm from\n",
        "                the paper \"On the Convergence of Adam and beyond\".\n",
        "            total_steps: An integer. Total number of training steps.\n",
        "                Enable warmup by setting a positive value.\n",
        "            warmup_proportion: A floating point value. The proportion of increasing steps.\n",
        "            min_lr: A floating point value. Minimum learning rate after warmup.\n",
        "            name: Optional name for the operations created when applying gradients.\n",
        "                Defaults to \"Adam\".    @compatibility(eager) When eager execution is\n",
        "                enabled, `learning_rate`, `beta_1`, `beta_2`, and `epsilon` can each be\n",
        "                a callable that takes no arguments and returns the actual value to use.\n",
        "                This can be useful for changing these values across different\n",
        "                invocations of optimizer functions. @end_compatibility\n",
        "            **kwargs: keyword arguments. Allowed to be {`clipnorm`, `clipvalue`, `lr`,\n",
        "                `decay`}. `clipnorm` is clip gradients by norm; `clipvalue` is clip\n",
        "                gradients by value, `decay` is included for backward compatibility to\n",
        "                allow time inverse decay of learning rate. `lr` is included for backward\n",
        "                compatibility, recommended to use `learning_rate` instead.\n",
        "        \"\"\"\n",
        "\n",
        "        super(RAdam, self).__init__(name, **kwargs)\n",
        "        self._set_hyper('learning_rate', kwargs.get('lr', learning_rate))\n",
        "        self._set_hyper('beta_1', beta_1)\n",
        "        self._set_hyper('beta_2', beta_2)\n",
        "        self._set_hyper('decay', self._initial_decay)\n",
        "        self._set_hyper('weight_decay', weight_decay)\n",
        "        self._set_hyper('total_steps', float(total_steps))\n",
        "        self._set_hyper('warmup_proportion', warmup_proportion)\n",
        "        self._set_hyper('min_lr', min_lr)\n",
        "        self.epsilon = epsilon or K.epsilon()\n",
        "        self.amsgrad = amsgrad\n",
        "        self._initial_weight_decay = weight_decay\n",
        "        self._initial_total_steps = total_steps\n",
        "\n",
        "    def _create_slots(self, var_list):\n",
        "        for var in var_list:\n",
        "            self.add_slot(var, 'm')\n",
        "        for var in var_list:\n",
        "            self.add_slot(var, 'v')\n",
        "        if self.amsgrad:\n",
        "            for var in var_list:\n",
        "                self.add_slot(var, 'vhat')\n",
        "\n",
        "    def set_weights(self, weights):\n",
        "        params = self.weights\n",
        "        num_vars = int((len(params) - 1) / 2)\n",
        "        if len(weights) == 3 * num_vars + 1:\n",
        "            weights = weights[:len(params)]\n",
        "        super(RAdam, self).set_weights(weights)\n",
        "\n",
        "    def _resource_apply_dense(self, grad, var):\n",
        "        var_dtype = var.dtype.base_dtype\n",
        "        lr_t = self._decayed_lr(var_dtype)\n",
        "        m = self.get_slot(var, 'm')\n",
        "        v = self.get_slot(var, 'v')\n",
        "        beta_1_t = self._get_hyper('beta_1', var_dtype)\n",
        "        beta_2_t = self._get_hyper('beta_2', var_dtype)\n",
        "        epsilon_t = ops.convert_to_tensor(self.epsilon, var_dtype)\n",
        "        local_step = math_ops.cast(self.iterations + 1, var_dtype)\n",
        "        beta_1_power = math_ops.pow(beta_1_t, local_step)\n",
        "        beta_2_power = math_ops.pow(beta_2_t, local_step)\n",
        "\n",
        "        if self._initial_total_steps > 0:\n",
        "            total_steps = self._get_hyper('total_steps', var_dtype)\n",
        "            warmup_steps = total_steps * self._get_hyper('warmup_proportion', var_dtype)\n",
        "            min_lr = self._get_hyper('min_lr', var_dtype)\n",
        "            decay_steps = K.maximum(total_steps - warmup_steps, 1)\n",
        "            decay_rate = (min_lr - lr_t) / decay_steps\n",
        "            lr_t = tf.where(\n",
        "                local_step <= warmup_steps,\n",
        "                lr_t * (local_step / warmup_steps),\n",
        "                lr_t + decay_rate * K.minimum(local_step - warmup_steps, decay_steps),\n",
        "            )\n",
        "\n",
        "        sma_inf = 2.0 / (1.0 - beta_2_t) - 1.0\n",
        "        sma_t = sma_inf - 2.0 * local_step * beta_2_power / (1.0 - beta_2_power)\n",
        "\n",
        "        m_t = state_ops.assign(m,\n",
        "                               beta_1_t * m + (1.0 - beta_1_t) * grad,\n",
        "                               use_locking=self._use_locking)\n",
        "        m_corr_t = m_t / (1.0 - beta_1_power)\n",
        "\n",
        "        v_t = state_ops.assign(v,\n",
        "                               beta_2_t * v + (1.0 - beta_2_t) * math_ops.square(grad),\n",
        "                               use_locking=self._use_locking)\n",
        "        if self.amsgrad:\n",
        "            vhat = self.get_slot(var, 'vhat')\n",
        "            vhat_t = state_ops.assign(vhat,\n",
        "                                      math_ops.maximum(vhat, v_t),\n",
        "                                      use_locking=self._use_locking)\n",
        "            v_corr_t = math_ops.sqrt(vhat_t / (1.0 - beta_2_power))\n",
        "        else:\n",
        "            vhat_t = None\n",
        "            v_corr_t = math_ops.sqrt(v_t / (1.0 - beta_2_power))\n",
        "\n",
        "        r_t = math_ops.sqrt((sma_t - 4.0) / (sma_inf - 4.0) *\n",
        "                            (sma_t - 2.0) / (sma_inf - 2.0) *\n",
        "                            sma_inf / sma_t)\n",
        "\n",
        "        var_t = tf.where(sma_t >= 5.0, r_t * m_corr_t / (v_corr_t + epsilon_t), m_corr_t)\n",
        "\n",
        "        if self._initial_weight_decay > 0.0:\n",
        "            var_t += self._get_hyper('weight_decay', var_dtype) * var\n",
        "\n",
        "        var_update = state_ops.assign_sub(var,\n",
        "                                          lr_t * var_t,\n",
        "                                          use_locking=self._use_locking)\n",
        "\n",
        "        updates = [var_update, m_t, v_t]\n",
        "        if self.amsgrad:\n",
        "            updates.append(vhat_t)\n",
        "        return control_flow_ops.group(*updates)\n",
        "\n",
        "    def _resource_apply_sparse(self, grad, var, indices):\n",
        "        var_dtype = var.dtype.base_dtype\n",
        "        lr_t = self._decayed_lr(var_dtype)\n",
        "        beta_1_t = self._get_hyper('beta_1', var_dtype)\n",
        "        beta_2_t = self._get_hyper('beta_2', var_dtype)\n",
        "        epsilon_t = ops.convert_to_tensor(self.epsilon, var_dtype)\n",
        "        local_step = math_ops.cast(self.iterations + 1, var_dtype)\n",
        "        beta_1_power = math_ops.pow(beta_1_t, local_step)\n",
        "        beta_2_power = math_ops.pow(beta_2_t, local_step)\n",
        "\n",
        "        if self._initial_total_steps > 0:\n",
        "            total_steps = self._get_hyper('total_steps', var_dtype)\n",
        "            warmup_steps = total_steps * self._get_hyper('warmup_proportion', var_dtype)\n",
        "            min_lr = self._get_hyper('min_lr', var_dtype)\n",
        "            decay_steps = K.maximum(total_steps - warmup_steps, 1)\n",
        "            decay_rate = (min_lr - lr_t) / decay_steps\n",
        "            lr_t = tf.where(\n",
        "                local_step <= warmup_steps,\n",
        "                lr_t * (local_step / warmup_steps),\n",
        "                lr_t + decay_rate * K.minimum(local_step - warmup_steps, decay_steps),\n",
        "            )\n",
        "\n",
        "        sma_inf = 2.0 / (1.0 - beta_2_t) - 1.0\n",
        "        sma_t = sma_inf - 2.0 * local_step * beta_2_power / (1.0 - beta_2_power)\n",
        "\n",
        "        m = self.get_slot(var, 'm')\n",
        "        m_scaled_g_values = grad * (1 - beta_1_t)\n",
        "        m_t = state_ops.assign(m, m * beta_1_t, use_locking=self._use_locking)\n",
        "        with ops.control_dependencies([m_t]):\n",
        "            m_t = self._resource_scatter_add(m, indices, m_scaled_g_values)\n",
        "        m_corr_t = m_t / (1.0 - beta_1_power)\n",
        "\n",
        "        v = self.get_slot(var, 'v')\n",
        "        v_scaled_g_values = (grad * grad) * (1 - beta_2_t)\n",
        "        v_t = state_ops.assign(v, v * beta_2_t, use_locking=self._use_locking)\n",
        "        with ops.control_dependencies([v_t]):\n",
        "            v_t = self._resource_scatter_add(v, indices, v_scaled_g_values)\n",
        "\n",
        "        if self.amsgrad:\n",
        "            vhat = self.get_slot(var, 'vhat')\n",
        "            vhat_t = state_ops.assign(vhat,\n",
        "                                      math_ops.maximum(vhat, v_t),\n",
        "                                      use_locking=self._use_locking)\n",
        "            v_corr_t = math_ops.sqrt(vhat_t / (1.0 - beta_2_power))\n",
        "        else:\n",
        "            vhat_t = None\n",
        "            v_corr_t = math_ops.sqrt(v_t / (1.0 - beta_2_power))\n",
        "\n",
        "        r_t = math_ops.sqrt((sma_t - 4.0) / (sma_inf - 4.0) *\n",
        "                            (sma_t - 2.0) / (sma_inf - 2.0) *\n",
        "                            sma_inf / sma_t)\n",
        "\n",
        "        var_t = tf.where(sma_t >= 5.0, r_t * m_corr_t / (v_corr_t + epsilon_t), m_corr_t)\n",
        "\n",
        "        if self._initial_weight_decay > 0.0:\n",
        "            var_t += self._get_hyper('weight_decay', var_dtype) * var\n",
        "\n",
        "        var_update = self._resource_scatter_add(var, indices, tf.gather(-lr_t * var_t, indices))\n",
        "\n",
        "        updates = [var_update, m_t, v_t]\n",
        "        if self.amsgrad:\n",
        "            updates.append(vhat_t)\n",
        "        return control_flow_ops.group(*updates)\n",
        "\n",
        "    def get_config(self):\n",
        "        config = super(RAdam, self).get_config()\n",
        "        config.update({\n",
        "            'learning_rate': self._serialize_hyperparameter('learning_rate'),\n",
        "            'beta_1': self._serialize_hyperparameter('beta_1'),\n",
        "            'beta_2': self._serialize_hyperparameter('beta_2'),\n",
        "            'decay': self._serialize_hyperparameter('decay'),\n",
        "            'weight_decay': self._serialize_hyperparameter('weight_decay'),\n",
        "            'epsilon': self.epsilon,\n",
        "            'amsgrad': self.amsgrad,\n",
        "            'total_steps': self._serialize_hyperparameter('total_steps'),\n",
        "            'warmup_proportion': self._serialize_hyperparameter('warmup_proportion'),\n",
        "            'min_lr': self._serialize_hyperparameter('min_lr'),\n",
        "        })\n",
        "        return config"
      ],
      "metadata": {
        "id": "gwamQ3aKShZM"
      },
      "execution_count": 11,
      "outputs": []
    },
    {
      "cell_type": "code",
      "source": [
        "efficientnetb3 = efn.EfficientNetB2(\n",
        "        weights='imagenet',\n",
        "        input_shape=(260,260,3),\n",
        "        include_top=False\n",
        "                   )\n",
        "\n",
        "model = build_model(efficientnetb3)\n",
        "model.summary()\n",
        "\n",
        "\n",
        "\n"
      ],
      "metadata": {
        "colab": {
          "base_uri": "https://localhost:8080/"
        },
        "id": "cwL67jhBSie2",
        "outputId": "96505e63-39ce-4b6e-ecd3-a48e8cecc57f"
      },
      "execution_count": 12,
      "outputs": [
        {
          "output_type": "stream",
          "name": "stdout",
          "text": [
            "Downloading data from https://github.com/Callidior/keras-applications/releases/download/efficientnet/efficientnet-b2_weights_tf_dim_ordering_tf_kernels_autoaugment_notop.h5\n",
            "31940608/31936256 [==============================] - 3s 0us/step\n",
            "31948800/31936256 [==============================] - 3s 0us/step\n",
            "Model: \"sequential\"\n",
            "_________________________________________________________________\n",
            " Layer (type)                Output Shape              Param #   \n",
            "=================================================================\n",
            " efficientnet-b2 (Functional  (None, 9, 9, 1408)       7768562   \n",
            " )                                                               \n",
            "                                                                 \n",
            " global_average_pooling2d (G  (None, 1408)             0         \n",
            " lobalAveragePooling2D)                                          \n",
            "                                                                 \n",
            " dropout (Dropout)           (None, 1408)              0         \n",
            "                                                                 \n",
            " batch_normalization (BatchN  (None, 1408)             5632      \n",
            " ormalization)                                                   \n",
            "                                                                 \n",
            " dense (Dense)               (None, 2)                 2818      \n",
            "                                                                 \n",
            "=================================================================\n",
            "Total params: 7,777,012\n",
            "Trainable params: 7,706,628\n",
            "Non-trainable params: 70,384\n",
            "_________________________________________________________________\n"
          ]
        }
      ]
    },
    {
      "cell_type": "code",
      "source": [
        "\n",
        "model.compile(\n",
        "        loss='categorical_crossentropy',\n",
        "        optimizer='Adam',\n",
        "        \n",
        "        metrics=['accuracy']\n",
        "    )"
      ],
      "metadata": {
        "id": "UZ_rXBNdSyvp"
      },
      "execution_count": 13,
      "outputs": []
    },
    {
      "cell_type": "code",
      "source": [
        ""
      ],
      "metadata": {
        "id": "j8IJ8ftDqPRV"
      },
      "execution_count": 13,
      "outputs": []
    },
    {
      "cell_type": "code",
      "source": [
        "# Learning Rate Reducer\n",
        "learn_control = tf.keras.callbacks.ReduceLROnPlateau(monitor='val_accuracy', \n",
        "                                  patience=5,\n",
        "                                  verbose=1,\n",
        "                                  factor=0.2, \n",
        "                                  min_lr=1e-7)\n",
        "\n",
        "# Checkpoint\n",
        "#filepath=\"weights.best.hdf5\"\n",
        "#checkpoint = tf.keras.callbacks.ModelCheckpoint(filepath, monitor='val_acc', verbose=1, save_best_only=True, mode='max')\n"
      ],
      "metadata": {
        "id": "WJ0t5w_wtycz"
      },
      "execution_count": 14,
      "outputs": []
    },
    {
      "cell_type": "code",
      "source": [
        "history = model.fit(\n",
        "    training_set,\n",
        "    steps_per_epoch= x_train.shape[0]//65,\n",
        "    epochs=50,\n",
        "    validation_data=test_set,\n",
        "    validation_steps = x_val.shape[0]//65,\n",
        "    callbacks=[learn_control]\n",
        ")\n"
      ],
      "metadata": {
        "colab": {
          "base_uri": "https://localhost:8080/"
        },
        "id": "7k0V1XoiuA7Q",
        "outputId": "b12c00ed-ac0a-42ab-b8c7-5d266cbb6561"
      },
      "execution_count": 15,
      "outputs": [
        {
          "output_type": "stream",
          "name": "stdout",
          "text": [
            "Epoch 1/50\n",
            "32/32 [==============================] - 272s 8s/step - loss: 0.6761 - accuracy: 0.7578 - val_loss: 0.7245 - val_accuracy: 0.5820 - lr: 0.0010\n",
            "Epoch 2/50\n",
            "32/32 [==============================] - 151s 5s/step - loss: 0.4764 - accuracy: 0.7930 - val_loss: 0.6124 - val_accuracy: 0.7148 - lr: 0.0010\n",
            "Epoch 3/50\n",
            "32/32 [==============================] - 101s 3s/step - loss: 0.3665 - accuracy: 0.8125 - val_loss: 0.6996 - val_accuracy: 0.6484 - lr: 0.0010\n",
            "Epoch 4/50\n",
            "32/32 [==============================] - 70s 2s/step - loss: 0.4190 - accuracy: 0.8139 - val_loss: 0.9557 - val_accuracy: 0.5078 - lr: 0.0010\n",
            "Epoch 5/50\n",
            "32/32 [==============================] - 46s 1s/step - loss: 0.3699 - accuracy: 0.8281 - val_loss: 0.5068 - val_accuracy: 0.7461 - lr: 0.0010\n",
            "Epoch 6/50\n",
            "32/32 [==============================] - 33s 1s/step - loss: 0.3686 - accuracy: 0.8379 - val_loss: 0.5561 - val_accuracy: 0.6836 - lr: 0.0010\n",
            "Epoch 7/50\n",
            "32/32 [==============================] - 32s 1s/step - loss: 0.3216 - accuracy: 0.8389 - val_loss: 0.4078 - val_accuracy: 0.7734 - lr: 0.0010\n",
            "Epoch 8/50\n",
            "32/32 [==============================] - 25s 788ms/step - loss: 0.3263 - accuracy: 0.8584 - val_loss: 0.4660 - val_accuracy: 0.7734 - lr: 0.0010\n",
            "Epoch 9/50\n",
            "32/32 [==============================] - 25s 783ms/step - loss: 0.2883 - accuracy: 0.8721 - val_loss: 0.3376 - val_accuracy: 0.8242 - lr: 0.0010\n",
            "Epoch 10/50\n",
            "32/32 [==============================] - 23s 717ms/step - loss: 0.2840 - accuracy: 0.8711 - val_loss: 0.3360 - val_accuracy: 0.8320 - lr: 0.0010\n",
            "Epoch 11/50\n",
            "32/32 [==============================] - 22s 667ms/step - loss: 0.2584 - accuracy: 0.8867 - val_loss: 0.2583 - val_accuracy: 0.8477 - lr: 0.0010\n",
            "Epoch 12/50\n",
            "32/32 [==============================] - 21s 663ms/step - loss: 0.2929 - accuracy: 0.8627 - val_loss: 0.4092 - val_accuracy: 0.8008 - lr: 0.0010\n",
            "Epoch 13/50\n",
            "32/32 [==============================] - 21s 661ms/step - loss: 0.2777 - accuracy: 0.8809 - val_loss: 0.3708 - val_accuracy: 0.8125 - lr: 0.0010\n",
            "Epoch 14/50\n",
            "32/32 [==============================] - 22s 675ms/step - loss: 0.2659 - accuracy: 0.8848 - val_loss: 0.2986 - val_accuracy: 0.8711 - lr: 0.0010\n",
            "Epoch 15/50\n",
            "32/32 [==============================] - 21s 657ms/step - loss: 0.2905 - accuracy: 0.8779 - val_loss: 0.3908 - val_accuracy: 0.8555 - lr: 0.0010\n",
            "Epoch 16/50\n",
            "32/32 [==============================] - 21s 652ms/step - loss: 0.3086 - accuracy: 0.8677 - val_loss: 0.5908 - val_accuracy: 0.7734 - lr: 0.0010\n",
            "Epoch 17/50\n",
            "32/32 [==============================] - 21s 663ms/step - loss: 0.2530 - accuracy: 0.8896 - val_loss: 0.3387 - val_accuracy: 0.8516 - lr: 0.0010\n",
            "Epoch 18/50\n",
            "32/32 [==============================] - 21s 650ms/step - loss: 0.2544 - accuracy: 0.8965 - val_loss: 0.2635 - val_accuracy: 0.8672 - lr: 0.0010\n",
            "Epoch 19/50\n",
            "32/32 [==============================] - 21s 657ms/step - loss: 0.2421 - accuracy: 0.8867 - val_loss: 0.2857 - val_accuracy: 0.8789 - lr: 0.0010\n",
            "Epoch 20/50\n",
            "32/32 [==============================] - 21s 648ms/step - loss: 0.2346 - accuracy: 0.8935 - val_loss: 0.5323 - val_accuracy: 0.7617 - lr: 0.0010\n",
            "Epoch 21/50\n",
            "32/32 [==============================] - 21s 652ms/step - loss: 0.2558 - accuracy: 0.8965 - val_loss: 0.3074 - val_accuracy: 0.8906 - lr: 0.0010\n",
            "Epoch 22/50\n",
            "32/32 [==============================] - 22s 668ms/step - loss: 0.2312 - accuracy: 0.9043 - val_loss: 0.4872 - val_accuracy: 0.7969 - lr: 0.0010\n",
            "Epoch 23/50\n",
            "32/32 [==============================] - 21s 647ms/step - loss: 0.2248 - accuracy: 0.9075 - val_loss: 0.5167 - val_accuracy: 0.8164 - lr: 0.0010\n",
            "Epoch 24/50\n",
            "32/32 [==============================] - 21s 653ms/step - loss: 0.2544 - accuracy: 0.8886 - val_loss: 0.4747 - val_accuracy: 0.7969 - lr: 0.0010\n",
            "Epoch 25/50\n",
            "32/32 [==============================] - 21s 656ms/step - loss: 0.2149 - accuracy: 0.9014 - val_loss: 0.3645 - val_accuracy: 0.8555 - lr: 0.0010\n",
            "Epoch 26/50\n",
            "32/32 [==============================] - ETA: 0s - loss: 0.2110 - accuracy: 0.9134\n",
            "Epoch 00026: ReduceLROnPlateau reducing learning rate to 0.00020000000949949026.\n",
            "32/32 [==============================] - 21s 655ms/step - loss: 0.2110 - accuracy: 0.9134 - val_loss: 0.3359 - val_accuracy: 0.8555 - lr: 0.0010\n",
            "Epoch 27/50\n",
            "32/32 [==============================] - 21s 661ms/step - loss: 0.1901 - accuracy: 0.9131 - val_loss: 0.2336 - val_accuracy: 0.8867 - lr: 2.0000e-04\n",
            "Epoch 28/50\n",
            "32/32 [==============================] - 21s 652ms/step - loss: 0.1809 - accuracy: 0.9333 - val_loss: 0.3005 - val_accuracy: 0.8828 - lr: 2.0000e-04\n",
            "Epoch 29/50\n",
            "32/32 [==============================] - 21s 663ms/step - loss: 0.1941 - accuracy: 0.9160 - val_loss: 0.1976 - val_accuracy: 0.9180 - lr: 2.0000e-04\n",
            "Epoch 30/50\n",
            "32/32 [==============================] - 21s 662ms/step - loss: 0.1427 - accuracy: 0.9404 - val_loss: 0.2591 - val_accuracy: 0.8906 - lr: 2.0000e-04\n",
            "Epoch 31/50\n",
            "32/32 [==============================] - 22s 664ms/step - loss: 0.1488 - accuracy: 0.9343 - val_loss: 0.1855 - val_accuracy: 0.9141 - lr: 2.0000e-04\n",
            "Epoch 32/50\n",
            "32/32 [==============================] - 21s 651ms/step - loss: 0.1572 - accuracy: 0.9294 - val_loss: 0.2491 - val_accuracy: 0.8906 - lr: 2.0000e-04\n",
            "Epoch 33/50\n",
            "32/32 [==============================] - 21s 654ms/step - loss: 0.1467 - accuracy: 0.9385 - val_loss: 0.3431 - val_accuracy: 0.8711 - lr: 2.0000e-04\n",
            "Epoch 34/50\n",
            "32/32 [==============================] - ETA: 0s - loss: 0.1528 - accuracy: 0.9385\n",
            "Epoch 00034: ReduceLROnPlateau reducing learning rate to 4.0000001899898055e-05.\n",
            "32/32 [==============================] - 21s 653ms/step - loss: 0.1528 - accuracy: 0.9385 - val_loss: 0.2877 - val_accuracy: 0.9023 - lr: 2.0000e-04\n",
            "Epoch 35/50\n",
            "32/32 [==============================] - 21s 654ms/step - loss: 0.1261 - accuracy: 0.9434 - val_loss: 0.1831 - val_accuracy: 0.9297 - lr: 4.0000e-05\n",
            "Epoch 36/50\n",
            "32/32 [==============================] - 21s 657ms/step - loss: 0.1455 - accuracy: 0.9355 - val_loss: 0.2847 - val_accuracy: 0.8867 - lr: 4.0000e-05\n",
            "Epoch 37/50\n",
            "32/32 [==============================] - 21s 645ms/step - loss: 0.1466 - accuracy: 0.9413 - val_loss: 0.2016 - val_accuracy: 0.9062 - lr: 4.0000e-05\n",
            "Epoch 38/50\n",
            "32/32 [==============================] - 21s 654ms/step - loss: 0.1135 - accuracy: 0.9521 - val_loss: 0.2143 - val_accuracy: 0.9062 - lr: 4.0000e-05\n",
            "Epoch 39/50\n",
            "32/32 [==============================] - 21s 652ms/step - loss: 0.1201 - accuracy: 0.9482 - val_loss: 0.2740 - val_accuracy: 0.8711 - lr: 4.0000e-05\n",
            "Epoch 40/50\n",
            "32/32 [==============================] - 21s 652ms/step - loss: 0.1442 - accuracy: 0.9443 - val_loss: 0.1498 - val_accuracy: 0.9375 - lr: 4.0000e-05\n",
            "Epoch 41/50\n",
            "32/32 [==============================] - 21s 653ms/step - loss: 0.1253 - accuracy: 0.9512 - val_loss: 0.2770 - val_accuracy: 0.8906 - lr: 4.0000e-05\n",
            "Epoch 42/50\n",
            "32/32 [==============================] - 21s 665ms/step - loss: 0.1088 - accuracy: 0.9562 - val_loss: 0.2614 - val_accuracy: 0.8867 - lr: 4.0000e-05\n",
            "Epoch 43/50\n",
            "32/32 [==============================] - 21s 653ms/step - loss: 0.1441 - accuracy: 0.9365 - val_loss: 0.2677 - val_accuracy: 0.8906 - lr: 4.0000e-05\n",
            "Epoch 44/50\n",
            "32/32 [==============================] - 21s 651ms/step - loss: 0.1557 - accuracy: 0.9355 - val_loss: 0.1891 - val_accuracy: 0.9180 - lr: 4.0000e-05\n",
            "Epoch 45/50\n",
            "32/32 [==============================] - ETA: 0s - loss: 0.1471 - accuracy: 0.9433\n",
            "Epoch 00045: ReduceLROnPlateau reducing learning rate to 8.000000525498762e-06.\n",
            "32/32 [==============================] - 21s 647ms/step - loss: 0.1471 - accuracy: 0.9433 - val_loss: 0.3023 - val_accuracy: 0.8828 - lr: 4.0000e-05\n",
            "Epoch 46/50\n",
            "32/32 [==============================] - 21s 656ms/step - loss: 0.1077 - accuracy: 0.9590 - val_loss: 0.2519 - val_accuracy: 0.9023 - lr: 8.0000e-06\n",
            "Epoch 47/50\n",
            "32/32 [==============================] - 21s 659ms/step - loss: 0.1308 - accuracy: 0.9424 - val_loss: 0.2256 - val_accuracy: 0.9062 - lr: 8.0000e-06\n",
            "Epoch 48/50\n",
            "32/32 [==============================] - 21s 653ms/step - loss: 0.1296 - accuracy: 0.9482 - val_loss: 0.2312 - val_accuracy: 0.9062 - lr: 8.0000e-06\n",
            "Epoch 49/50\n",
            "32/32 [==============================] - 21s 651ms/step - loss: 0.1159 - accuracy: 0.9521 - val_loss: 0.2560 - val_accuracy: 0.8984 - lr: 8.0000e-06\n",
            "Epoch 50/50\n",
            "32/32 [==============================] - ETA: 0s - loss: 0.1290 - accuracy: 0.9453\n",
            "Epoch 00050: ReduceLROnPlateau reducing learning rate to 1.6000001778593287e-06.\n",
            "32/32 [==============================] - 21s 649ms/step - loss: 0.1290 - accuracy: 0.9453 - val_loss: 0.2243 - val_accuracy: 0.9062 - lr: 8.0000e-06\n"
          ]
        }
      ]
    },
    {
      "cell_type": "code",
      "source": [
        "import matplotlib.pyplot as plt\n",
        "\n",
        "loss_train = history.history['loss']\n",
        "loss_val = history.history['val_loss']\n",
        "epochs = range(0,50)\n",
        "plt.plot(epochs, loss_train, 'g', label='Training loss')\n",
        "plt.plot(epochs, loss_val, 'b', label='validation loss')\n",
        "plt.title('Training and Validation loss')\n",
        "plt.xlabel('Epochs')\n",
        "plt.ylabel('Loss')\n",
        "plt.legend()\n",
        "plt.show()\n",
        "\n",
        "loss_train = history.history['accuracy']\n",
        "loss_val = history.history['val_accuracy']\n",
        "epochs = range(0,50)\n",
        "plt.plot(epochs, loss_train, 'g', label='Training accuracy')\n",
        "plt.plot(epochs, loss_val, 'b', label='validation accuracy')\n",
        "plt.title('Training and Validation loss')\n",
        "plt.xlabel('Epochs')\n",
        "plt.ylabel('Loss')\n",
        "plt.legend()\n",
        "plt.show()\n",
        "\n",
        "\n"
      ],
      "metadata": {
        "id": "prm1GLTWqfon",
        "colab": {
          "base_uri": "https://localhost:8080/",
          "height": 573
        },
        "outputId": "16f433fc-c6ff-49eb-cb66-036761ef0e60"
      },
      "execution_count": 16,
      "outputs": [
        {
          "output_type": "display_data",
          "data": {
            "image/png": "[encoded data removed]",
            "text/plain": [
              "<Figure size 432x288 with 1 Axes>"
            ]
          },
          "metadata": {
            "needs_background": "light"
          }
        },
        {
          "output_type": "display_data",
          "data": {
            "image/png": "[encoded data removed]",
            "text/plain": [
              "<Figure size 432x288 with 1 Axes>"
            ]
          },
          "metadata": {
            "needs_background": "light"
          }
        }
      ]
    },
    {
      "cell_type": "code",
      "source": [
        ""
      ],
      "metadata": {
        "id": "ttX7XJOj9oHM"
      },
      "execution_count": 16,
      "outputs": []
    },
    {
      "cell_type": "code",
      "source": [
        ""
      ],
      "metadata": {
        "id": "BeqbmDxEV4Cc"
      },
      "execution_count": 16,
      "outputs": []
    },
    {
      "cell_type": "markdown",
      "source": [
        "# New Section"
      ],
      "metadata": {
        "id": "Yu5ybR3VNNWh"
      }
    }
  ]
}